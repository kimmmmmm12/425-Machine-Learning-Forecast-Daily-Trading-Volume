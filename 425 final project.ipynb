{
 "cells": [
  {
   "cell_type": "code",
   "execution_count": 1,
   "id": "bdbbaa8a",
   "metadata": {},
   "outputs": [],
   "source": [
    "import requests\n",
    "import pandas as pd\n",
    "import io\n",
    "import pandas as pd\n",
    "import time\n",
    "import io\n",
    "import requests\n",
    "import numpy as np\n",
    "import seaborn as sns\n",
    "import matplotlib.pyplot as plt\n",
    "from sklearn import metrics\n",
    "from sklearn import linear_model\n",
    "from sklearn.pipeline import Pipeline\n",
    "from sklearn.preprocessing import PolynomialFeatures\n",
    "from sklearn.model_selection import GridSearchCV, TimeSeriesSplit\n",
    "from sklearn.compose import ColumnTransformer\n",
    "from sklearn.metrics import r2_score\n",
    "from sklearn.impute import SimpleImputer\n",
    "from sklearn.preprocessing import StandardScaler, OneHotEncoder\n",
    "from sklearn.linear_model import ElasticNet\n",
    "from sklearn.ensemble import RandomForestRegressor\n"
   ]
  },
  {
   "cell_type": "code",
   "execution_count": 2,
   "id": "c3079993",
   "metadata": {
    "scrolled": true
   },
   "outputs": [
    {
     "data": {
      "text/html": [
       "<div>\n",
       "<style scoped>\n",
       "    .dataframe tbody tr th:only-of-type {\n",
       "        vertical-align: middle;\n",
       "    }\n",
       "\n",
       "    .dataframe tbody tr th {\n",
       "        vertical-align: top;\n",
       "    }\n",
       "\n",
       "    .dataframe thead th {\n",
       "        text-align: right;\n",
       "    }\n",
       "</style>\n",
       "<table border=\"1\" class=\"dataframe\">\n",
       "  <thead>\n",
       "    <tr style=\"text-align: right;\">\n",
       "      <th></th>\n",
       "      <th>day_of_week</th>\n",
       "      <th>DJ_return</th>\n",
       "      <th>log_volume</th>\n",
       "      <th>log_volatility</th>\n",
       "      <th>train</th>\n",
       "    </tr>\n",
       "    <tr>\n",
       "      <th>date</th>\n",
       "      <th></th>\n",
       "      <th></th>\n",
       "      <th></th>\n",
       "      <th></th>\n",
       "      <th></th>\n",
       "    </tr>\n",
       "  </thead>\n",
       "  <tbody>\n",
       "    <tr>\n",
       "      <th>1962-12-03</th>\n",
       "      <td>mon</td>\n",
       "      <td>-0.004461</td>\n",
       "      <td>0.032573</td>\n",
       "      <td>-13.127403</td>\n",
       "      <td>True</td>\n",
       "    </tr>\n",
       "    <tr>\n",
       "      <th>1962-12-04</th>\n",
       "      <td>tues</td>\n",
       "      <td>0.007813</td>\n",
       "      <td>0.346202</td>\n",
       "      <td>-11.749305</td>\n",
       "      <td>True</td>\n",
       "    </tr>\n",
       "    <tr>\n",
       "      <th>1962-12-05</th>\n",
       "      <td>wed</td>\n",
       "      <td>0.003845</td>\n",
       "      <td>0.525306</td>\n",
       "      <td>-11.665609</td>\n",
       "      <td>True</td>\n",
       "    </tr>\n",
       "    <tr>\n",
       "      <th>1962-12-06</th>\n",
       "      <td>thur</td>\n",
       "      <td>-0.003462</td>\n",
       "      <td>0.210182</td>\n",
       "      <td>-11.626772</td>\n",
       "      <td>True</td>\n",
       "    </tr>\n",
       "    <tr>\n",
       "      <th>1962-12-07</th>\n",
       "      <td>fri</td>\n",
       "      <td>0.000568</td>\n",
       "      <td>0.044187</td>\n",
       "      <td>-11.728130</td>\n",
       "      <td>True</td>\n",
       "    </tr>\n",
       "    <tr>\n",
       "      <th>...</th>\n",
       "      <td>...</td>\n",
       "      <td>...</td>\n",
       "      <td>...</td>\n",
       "      <td>...</td>\n",
       "      <td>...</td>\n",
       "    </tr>\n",
       "    <tr>\n",
       "      <th>1986-12-24</th>\n",
       "      <td>wed</td>\n",
       "      <td>0.006514</td>\n",
       "      <td>-0.236104</td>\n",
       "      <td>-9.807366</td>\n",
       "      <td>False</td>\n",
       "    </tr>\n",
       "    <tr>\n",
       "      <th>1986-12-26</th>\n",
       "      <td>fri</td>\n",
       "      <td>0.001825</td>\n",
       "      <td>-1.322425</td>\n",
       "      <td>-9.906025</td>\n",
       "      <td>False</td>\n",
       "    </tr>\n",
       "    <tr>\n",
       "      <th>1986-12-29</th>\n",
       "      <td>mon</td>\n",
       "      <td>-0.009515</td>\n",
       "      <td>-0.371237</td>\n",
       "      <td>-9.827660</td>\n",
       "      <td>False</td>\n",
       "    </tr>\n",
       "    <tr>\n",
       "      <th>1986-12-30</th>\n",
       "      <td>tues</td>\n",
       "      <td>-0.001837</td>\n",
       "      <td>-0.385638</td>\n",
       "      <td>-9.926091</td>\n",
       "      <td>False</td>\n",
       "    </tr>\n",
       "    <tr>\n",
       "      <th>1986-12-31</th>\n",
       "      <td>wed</td>\n",
       "      <td>-0.006655</td>\n",
       "      <td>-0.264986</td>\n",
       "      <td>-9.935527</td>\n",
       "      <td>False</td>\n",
       "    </tr>\n",
       "  </tbody>\n",
       "</table>\n",
       "<p>6051 rows × 5 columns</p>\n",
       "</div>"
      ],
      "text/plain": [
       "           day_of_week  DJ_return  log_volume  log_volatility  train\n",
       "date                                                                \n",
       "1962-12-03         mon  -0.004461    0.032573      -13.127403   True\n",
       "1962-12-04        tues   0.007813    0.346202      -11.749305   True\n",
       "1962-12-05         wed   0.003845    0.525306      -11.665609   True\n",
       "1962-12-06        thur  -0.003462    0.210182      -11.626772   True\n",
       "1962-12-07         fri   0.000568    0.044187      -11.728130   True\n",
       "...                ...        ...         ...             ...    ...\n",
       "1986-12-24         wed   0.006514   -0.236104       -9.807366  False\n",
       "1986-12-26         fri   0.001825   -1.322425       -9.906025  False\n",
       "1986-12-29         mon  -0.009515   -0.371237       -9.827660  False\n",
       "1986-12-30        tues  -0.001837   -0.385638       -9.926091  False\n",
       "1986-12-31         wed  -0.006655   -0.264986       -9.935527  False\n",
       "\n",
       "[6051 rows x 5 columns]"
      ]
     },
     "execution_count": 2,
     "metadata": {},
     "output_type": "execute_result"
    }
   ],
   "source": [
    "# Read in NYSE data from url\n",
    "url = \"https://raw.githubusercontent.com/ucla-econ-425t/2023winter/master/slides/data/NYSE.csv\"\n",
    "s = requests.get(url).content.decode('utf-8')\n",
    "NYSE = pd.read_csv(io.StringIO(s), index_col = 0)\n",
    "NYSE"
   ]
  },
  {
   "cell_type": "code",
   "execution_count": 3,
   "id": "ff21697f",
   "metadata": {},
   "outputs": [],
   "source": [
    "L = 5\n",
    "\n",
    "for s in range(1,L+1):\n",
    "    NYSE[f'DJ_return_lag{s}']= NYSE['DJ_return'].shift(s)\n",
    "    NYSE[f'log_volume_lag{s}']= NYSE['log_volume'].shift(s)\n",
    "    NYSE[f'log_volatility]_lag{s}'] = NYSE['log_volatility'].shift(s)\n",
    "NYSE = NYSE.reindex(sorted(NYSE.columns),axis = 1)"
   ]
  },
  {
   "cell_type": "code",
   "execution_count": 4,
   "id": "106e19a4",
   "metadata": {},
   "outputs": [
    {
     "data": {
      "text/plain": [
       "<Figure size 432x288 with 0 Axes>"
      ]
     },
     "metadata": {},
     "output_type": "display_data"
    },
    {
     "data": {
      "image/png": "[encoded data removed]",
      "text/plain": [
       "<Figure size 432x288 with 1 Axes>"
      ]
     },
     "metadata": {
      "needs_background": "light"
     },
     "output_type": "display_data"
    }
   ],
   "source": [
    "from statsmodels.graphics.tsaplots import plot_acf, plot_pacf\n",
    "\n",
    "plt.figure()\n",
    "plot_acf(NYSE['log_volume'], lags = 20)\n",
    "plt.show()\n",
    "\n"
   ]
  },
  {
   "cell_type": "code",
   "execution_count": 5,
   "id": "c7dd52f8",
   "metadata": {
    "scrolled": true
   },
   "outputs": [
    {
     "data": {
      "text/plain": [
       "<Figure size 432x288 with 0 Axes>"
      ]
     },
     "metadata": {},
     "output_type": "display_data"
    },
    {
     "data": {
      "image/png": "[encoded data removed]",
      "text/plain": [
       "<Figure size 432x288 with 1 Axes>"
      ]
     },
     "metadata": {
      "needs_background": "light"
     },
     "output_type": "display_data"
    }
   ],
   "source": [
    "from statsmodels.graphics.tsaplots import plot_acf, plot_pacf\n",
    "\n",
    "plt.figure()\n",
    "plot_acf(NYSE['log_volatility'], lags = 20)\n",
    "plt.show()\n"
   ]
  },
  {
   "cell_type": "code",
   "execution_count": 6,
   "id": "40c6c065",
   "metadata": {
    "scrolled": true
   },
   "outputs": [
    {
     "data": {
      "text/plain": [
       "<Figure size 432x288 with 0 Axes>"
      ]
     },
     "metadata": {},
     "output_type": "display_data"
    },
    {
     "data": {
      "image/png": "[encoded data removed]",
      "text/plain": [
       "<Figure size 432x288 with 1 Axes>"
      ]
     },
     "metadata": {
      "needs_background": "light"
     },
     "output_type": "display_data"
    }
   ],
   "source": [
    "plt.figure()\n",
    "plot_acf(NYSE['DJ_return'], lags = 20)\n",
    "plt.show()"
   ]
  },
  {
   "cell_type": "code",
   "execution_count": 7,
   "id": "0c3b6269",
   "metadata": {
    "scrolled": true
   },
   "outputs": [
    {
     "data": {
      "text/plain": [
       "(4276, 20)"
      ]
     },
     "execution_count": 7,
     "metadata": {},
     "output_type": "execute_result"
    }
   ],
   "source": [
    "NYSE_other = NYSE[NYSE['train']== True].dropna()\n",
    "NYSE_other.shape"
   ]
  },
  {
   "cell_type": "code",
   "execution_count": 8,
   "id": "54bf96f4",
   "metadata": {},
   "outputs": [
    {
     "data": {
      "text/plain": [
       "(1770, 20)"
      ]
     },
     "execution_count": 8,
     "metadata": {},
     "output_type": "execute_result"
    }
   ],
   "source": [
    "NYSE_test = NYSE[NYSE['train']== False]\n",
    "NYSE_test.shape"
   ]
  },
  {
   "cell_type": "code",
   "execution_count": 87,
   "id": "b056dcc2",
   "metadata": {},
   "outputs": [
    {
     "data": {
      "text/html": [
       "<style type=\"text/css\">\n",
       "#T_9140c_row0_col0, #T_9140c_row1_col1, #T_9140c_row2_col2, #T_9140c_row3_col3, #T_9140c_row4_col4, #T_9140c_row5_col5, #T_9140c_row6_col6, #T_9140c_row7_col7, #T_9140c_row8_col8, #T_9140c_row9_col9, #T_9140c_row10_col10, #T_9140c_row11_col11, #T_9140c_row12_col12, #T_9140c_row13_col13, #T_9140c_row14_col14, #T_9140c_row15_col15, #T_9140c_row16_col16, #T_9140c_row17_col17 {\n",
       "  background-color: #b40426;\n",
       "  color: #f1f1f1;\n",
       "}\n",
       "#T_9140c_row0_col1, #T_9140c_row1_col2, #T_9140c_row2_col1, #T_9140c_row2_col3, #T_9140c_row3_col2, #T_9140c_row3_col4, #T_9140c_row4_col3, #T_9140c_row5_col4 {\n",
       "  background-color: #688aef;\n",
       "  color: #f1f1f1;\n",
       "}\n",
       "#T_9140c_row0_col2, #T_9140c_row0_col3, #T_9140c_row0_col4, #T_9140c_row0_col5, #T_9140c_row0_col16, #T_9140c_row1_col3, #T_9140c_row1_col4, #T_9140c_row1_col17, #T_9140c_row2_col4, #T_9140c_row3_col1, #T_9140c_row4_col1, #T_9140c_row4_col2, #T_9140c_row5_col0, #T_9140c_row5_col1, #T_9140c_row5_col2, #T_9140c_row5_col3, #T_9140c_row5_col6, #T_9140c_row5_col7, #T_9140c_row9_col12, #T_9140c_row10_col12, #T_9140c_row10_col13, #T_9140c_row11_col12, #T_9140c_row11_col13, #T_9140c_row11_col14, #T_9140c_row11_col15, #T_9140c_row12_col8, #T_9140c_row12_col9, #T_9140c_row12_col10, #T_9140c_row12_col11, #T_9140c_row13_col10, #T_9140c_row13_col11, #T_9140c_row14_col11, #T_9140c_row17_col1 {\n",
       "  background-color: #3b4cc0;\n",
       "  color: #f1f1f1;\n",
       "}\n",
       "#T_9140c_row0_col6, #T_9140c_row7_col1, #T_9140c_row8_col2, #T_9140c_row8_col16, #T_9140c_row9_col3, #T_9140c_row9_col17, #T_9140c_row10_col4, #T_9140c_row14_col6 {\n",
       "  background-color: #445acc;\n",
       "  color: #f1f1f1;\n",
       "}\n",
       "#T_9140c_row0_col7, #T_9140c_row1_col16, #T_9140c_row2_col17, #T_9140c_row7_col5, #T_9140c_row11_col1, #T_9140c_row11_col16, #T_9140c_row16_col1, #T_9140c_row17_col2, #T_9140c_row17_col7 {\n",
       "  background-color: #3e51c5;\n",
       "  color: #f1f1f1;\n",
       "}\n",
       "#T_9140c_row0_col8, #T_9140c_row1_col8, #T_9140c_row5_col8, #T_9140c_row6_col0, #T_9140c_row9_col16, #T_9140c_row10_col15, #T_9140c_row10_col17, #T_9140c_row11_col5, #T_9140c_row13_col6, #T_9140c_row13_col8 {\n",
       "  background-color: #465ecf;\n",
       "  color: #f1f1f1;\n",
       "}\n",
       "#T_9140c_row0_col9, #T_9140c_row0_col10, #T_9140c_row0_col11, #T_9140c_row1_col9, #T_9140c_row1_col10, #T_9140c_row1_col11, #T_9140c_row1_col15, #T_9140c_row2_col11, #T_9140c_row4_col8, #T_9140c_row7_col12, #T_9140c_row8_col13, #T_9140c_row9_col14, #T_9140c_row13_col7, #T_9140c_row14_col9, #T_9140c_row15_col10, #T_9140c_row16_col11 {\n",
       "  background-color: #485fd1;\n",
       "  color: #f1f1f1;\n",
       "}\n",
       "#T_9140c_row0_col12, #T_9140c_row1_col13, #T_9140c_row2_col14 {\n",
       "  background-color: #85a8fc;\n",
       "  color: #f1f1f1;\n",
       "}\n",
       "#T_9140c_row0_col13, #T_9140c_row1_col14, #T_9140c_row6_col12, #T_9140c_row7_col13, #T_9140c_row8_col14, #T_9140c_row15_col9, #T_9140c_row16_col10, #T_9140c_row17_col11 {\n",
       "  background-color: #536edd;\n",
       "  color: #f1f1f1;\n",
       "}\n",
       "#T_9140c_row0_col14, #T_9140c_row2_col9, #T_9140c_row2_col10, #T_9140c_row3_col8, #T_9140c_row3_col10, #T_9140c_row3_col11, #T_9140c_row3_col16, #T_9140c_row4_col11, #T_9140c_row4_col17, #T_9140c_row5_col9, #T_9140c_row6_col15, #T_9140c_row10_col16, #T_9140c_row11_col17, #T_9140c_row17_col8 {\n",
       "  background-color: #4961d2;\n",
       "  color: #f1f1f1;\n",
       "}\n",
       "#T_9140c_row0_col15, #T_9140c_row10_col5, #T_9140c_row14_col7 {\n",
       "  background-color: #455cce;\n",
       "  color: #f1f1f1;\n",
       "}\n",
       "#T_9140c_row0_col17, #T_9140c_row4_col6, #T_9140c_row6_col4, #T_9140c_row6_col5, #T_9140c_row6_col17, #T_9140c_row8_col12, #T_9140c_row9_col13, #T_9140c_row10_col14, #T_9140c_row13_col9, #T_9140c_row14_col10, #T_9140c_row15_col11 {\n",
       "  background-color: #3c4ec2;\n",
       "  color: #f1f1f1;\n",
       "}\n",
       "#T_9140c_row1_col0, #T_9140c_row4_col5 {\n",
       "  background-color: #6b8df0;\n",
       "  color: #f1f1f1;\n",
       "}\n",
       "#T_9140c_row1_col5, #T_9140c_row2_col0, #T_9140c_row2_col5, #T_9140c_row3_col0, #T_9140c_row3_col5, #T_9140c_row4_col0, #T_9140c_row4_col7, #T_9140c_row12_col7, #T_9140c_row16_col0, #T_9140c_row17_col6 {\n",
       "  background-color: #3d50c3;\n",
       "  color: #f1f1f1;\n",
       "}\n",
       "#T_9140c_row1_col6, #T_9140c_row7_col0, #T_9140c_row8_col0, #T_9140c_row9_col4, #T_9140c_row9_col5, #T_9140c_row14_col0, #T_9140c_row15_col6, #T_9140c_row15_col7 {\n",
       "  background-color: #4358cb;\n",
       "  color: #f1f1f1;\n",
       "}\n",
       "#T_9140c_row1_col7, #T_9140c_row6_col1, #T_9140c_row7_col2, #T_9140c_row7_col16, #T_9140c_row8_col3, #T_9140c_row8_col5, #T_9140c_row8_col17, #T_9140c_row9_col0, #T_9140c_row11_col0 {\n",
       "  background-color: #4257c9;\n",
       "  color: #f1f1f1;\n",
       "}\n",
       "#T_9140c_row1_col12, #T_9140c_row2_col13 {\n",
       "  background-color: #89acfd;\n",
       "  color: #000000;\n",
       "}\n",
       "#T_9140c_row2_col6, #T_9140c_row2_col7, #T_9140c_row2_col16, #T_9140c_row3_col17, #T_9140c_row6_col2, #T_9140c_row7_col3, #T_9140c_row7_col17, #T_9140c_row8_col4, #T_9140c_row10_col0, #T_9140c_row11_col4, #T_9140c_row15_col0, #T_9140c_row15_col1, #T_9140c_row16_col2, #T_9140c_row16_col6, #T_9140c_row16_col7, #T_9140c_row17_col3 {\n",
       "  background-color: #4055c8;\n",
       "  color: #f1f1f1;\n",
       "}\n",
       "#T_9140c_row2_col8, #T_9140c_row4_col9, #T_9140c_row5_col10, #T_9140c_row7_col15, #T_9140c_row16_col8 {\n",
       "  background-color: #4b64d5;\n",
       "  color: #f1f1f1;\n",
       "}\n",
       "#T_9140c_row2_col12, #T_9140c_row3_col13, #T_9140c_row4_col14, #T_9140c_row5_col14 {\n",
       "  background-color: #6687ed;\n",
       "  color: #f1f1f1;\n",
       "}\n",
       "#T_9140c_row2_col15 {\n",
       "  background-color: #516ddb;\n",
       "  color: #f1f1f1;\n",
       "}\n",
       "#T_9140c_row3_col6, #T_9140c_row3_col7, #T_9140c_row6_col3, #T_9140c_row6_col16, #T_9140c_row7_col4, #T_9140c_row8_col1, #T_9140c_row9_col1, #T_9140c_row9_col2, #T_9140c_row10_col1, #T_9140c_row10_col2, #T_9140c_row10_col3, #T_9140c_row11_col2, #T_9140c_row11_col3, #T_9140c_row17_col0 {\n",
       "  background-color: #3f53c6;\n",
       "  color: #f1f1f1;\n",
       "}\n",
       "#T_9140c_row3_col9, #T_9140c_row4_col10, #T_9140c_row5_col11, #T_9140c_row6_col14, #T_9140c_row13_col0, #T_9140c_row17_col9 {\n",
       "  background-color: #4c66d6;\n",
       "  color: #f1f1f1;\n",
       "}\n",
       "#T_9140c_row3_col12, #T_9140c_row4_col13 {\n",
       "  background-color: #6788ee;\n",
       "  color: #f1f1f1;\n",
       "}\n",
       "#T_9140c_row3_col14, #T_9140c_row4_col15 {\n",
       "  background-color: #88abfd;\n",
       "  color: #000000;\n",
       "}\n",
       "#T_9140c_row3_col15, #T_9140c_row16_col5 {\n",
       "  background-color: #84a7fc;\n",
       "  color: #f1f1f1;\n",
       "}\n",
       "#T_9140c_row4_col12, #T_9140c_row5_col13, #T_9140c_row14_col5 {\n",
       "  background-color: #6180e9;\n",
       "  color: #f1f1f1;\n",
       "}\n",
       "#T_9140c_row4_col16, #T_9140c_row5_col17, #T_9140c_row13_col1, #T_9140c_row14_col2, #T_9140c_row15_col3, #T_9140c_row16_col4 {\n",
       "  background-color: #7da0f9;\n",
       "  color: #f1f1f1;\n",
       "}\n",
       "#T_9140c_row5_col12, #T_9140c_row13_col5 {\n",
       "  background-color: #5a78e4;\n",
       "  color: #f1f1f1;\n",
       "}\n",
       "#T_9140c_row5_col15 {\n",
       "  background-color: #6485ec;\n",
       "  color: #f1f1f1;\n",
       "}\n",
       "#T_9140c_row5_col16, #T_9140c_row12_col1, #T_9140c_row13_col2, #T_9140c_row14_col3, #T_9140c_row15_col4 {\n",
       "  background-color: #81a4fb;\n",
       "  color: #f1f1f1;\n",
       "}\n",
       "#T_9140c_row6_col7, #T_9140c_row7_col6, #T_9140c_row8_col7 {\n",
       "  background-color: #bb1b2c;\n",
       "  color: #f1f1f1;\n",
       "}\n",
       "#T_9140c_row6_col8, #T_9140c_row7_col9, #T_9140c_row8_col6, #T_9140c_row8_col10, #T_9140c_row9_col11, #T_9140c_row10_col8, #T_9140c_row11_col9 {\n",
       "  background-color: #c12b30;\n",
       "  color: #f1f1f1;\n",
       "}\n",
       "#T_9140c_row6_col9, #T_9140c_row7_col10, #T_9140c_row8_col11, #T_9140c_row9_col6, #T_9140c_row10_col7, #T_9140c_row11_col8 {\n",
       "  background-color: #c83836;\n",
       "  color: #f1f1f1;\n",
       "}\n",
       "#T_9140c_row6_col10, #T_9140c_row7_col11, #T_9140c_row10_col6, #T_9140c_row11_col7 {\n",
       "  background-color: #cd423b;\n",
       "  color: #f1f1f1;\n",
       "}\n",
       "#T_9140c_row6_col11 {\n",
       "  background-color: #d1493f;\n",
       "  color: #f1f1f1;\n",
       "}\n",
       "#T_9140c_row6_col13, #T_9140c_row7_col14, #T_9140c_row16_col9, #T_9140c_row17_col10 {\n",
       "  background-color: #4f69d9;\n",
       "  color: #f1f1f1;\n",
       "}\n",
       "#T_9140c_row7_col8, #T_9140c_row8_col9, #T_9140c_row9_col8, #T_9140c_row9_col10, #T_9140c_row10_col9, #T_9140c_row10_col11, #T_9140c_row11_col10 {\n",
       "  background-color: #ba162b;\n",
       "  color: #f1f1f1;\n",
       "}\n",
       "#T_9140c_row8_col15, #T_9140c_row15_col8 {\n",
       "  background-color: #4e68d8;\n",
       "  color: #f1f1f1;\n",
       "}\n",
       "#T_9140c_row9_col7 {\n",
       "  background-color: #c32e31;\n",
       "  color: #f1f1f1;\n",
       "}\n",
       "#T_9140c_row9_col15, #T_9140c_row14_col8 {\n",
       "  background-color: #506bda;\n",
       "  color: #f1f1f1;\n",
       "}\n",
       "#T_9140c_row11_col6 {\n",
       "  background-color: #d24b40;\n",
       "  color: #f1f1f1;\n",
       "}\n",
       "#T_9140c_row12_col0, #T_9140c_row17_col5 {\n",
       "  background-color: #80a3fa;\n",
       "  color: #f1f1f1;\n",
       "}\n",
       "#T_9140c_row12_col2, #T_9140c_row13_col3, #T_9140c_row14_col4 {\n",
       "  background-color: #5d7ce6;\n",
       "  color: #f1f1f1;\n",
       "}\n",
       "#T_9140c_row12_col3, #T_9140c_row13_col4 {\n",
       "  background-color: #5e7de7;\n",
       "  color: #f1f1f1;\n",
       "}\n",
       "#T_9140c_row12_col4 {\n",
       "  background-color: #5875e1;\n",
       "  color: #f1f1f1;\n",
       "}\n",
       "#T_9140c_row12_col5 {\n",
       "  background-color: #5470de;\n",
       "  color: #f1f1f1;\n",
       "}\n",
       "#T_9140c_row12_col6, #T_9140c_row14_col1, #T_9140c_row15_col2, #T_9140c_row16_col3, #T_9140c_row17_col4 {\n",
       "  background-color: #4a63d3;\n",
       "  color: #f1f1f1;\n",
       "}\n",
       "#T_9140c_row12_col13, #T_9140c_row13_col12, #T_9140c_row13_col14, #T_9140c_row14_col13, #T_9140c_row15_col14 {\n",
       "  background-color: #f7b194;\n",
       "  color: #000000;\n",
       "}\n",
       "#T_9140c_row12_col14, #T_9140c_row13_col15, #T_9140c_row16_col14, #T_9140c_row17_col15 {\n",
       "  background-color: #e0dbd8;\n",
       "  color: #000000;\n",
       "}\n",
       "#T_9140c_row12_col15, #T_9140c_row17_col12 {\n",
       "  background-color: #d6dce4;\n",
       "  color: #000000;\n",
       "}\n",
       "#T_9140c_row12_col16, #T_9140c_row13_col16, #T_9140c_row13_col17, #T_9140c_row14_col17 {\n",
       "  background-color: #d3dbe7;\n",
       "  color: #000000;\n",
       "}\n",
       "#T_9140c_row12_col17 {\n",
       "  background-color: #d2dbe8;\n",
       "  color: #000000;\n",
       "}\n",
       "#T_9140c_row14_col12, #T_9140c_row15_col13 {\n",
       "  background-color: #e1dad6;\n",
       "  color: #000000;\n",
       "}\n",
       "#T_9140c_row14_col15, #T_9140c_row16_col15 {\n",
       "  background-color: #f7b396;\n",
       "  color: #000000;\n",
       "}\n",
       "#T_9140c_row14_col16, #T_9140c_row15_col17 {\n",
       "  background-color: #dddcdc;\n",
       "  color: #000000;\n",
       "}\n",
       "#T_9140c_row15_col5 {\n",
       "  background-color: #5f7fe8;\n",
       "  color: #f1f1f1;\n",
       "}\n",
       "#T_9140c_row15_col12, #T_9140c_row16_col12, #T_9140c_row16_col13, #T_9140c_row17_col13, #T_9140c_row17_col14 {\n",
       "  background-color: #d7dce3;\n",
       "  color: #000000;\n",
       "}\n",
       "#T_9140c_row15_col16, #T_9140c_row17_col16 {\n",
       "  background-color: #f7b599;\n",
       "  color: #000000;\n",
       "}\n",
       "#T_9140c_row16_col17 {\n",
       "  background-color: #f7b497;\n",
       "  color: #000000;\n",
       "}\n",
       "</style>\n",
       "<table id=\"T_9140c\">\n",
       "  <thead>\n",
       "    <tr>\n",
       "      <th class=\"blank level0\" >&nbsp;</th>\n",
       "      <th id=\"T_9140c_level0_col0\" class=\"col_heading level0 col0\" >DJ_return</th>\n",
       "      <th id=\"T_9140c_level0_col1\" class=\"col_heading level0 col1\" >DJ_return_lag1</th>\n",
       "      <th id=\"T_9140c_level0_col2\" class=\"col_heading level0 col2\" >DJ_return_lag2</th>\n",
       "      <th id=\"T_9140c_level0_col3\" class=\"col_heading level0 col3\" >DJ_return_lag3</th>\n",
       "      <th id=\"T_9140c_level0_col4\" class=\"col_heading level0 col4\" >DJ_return_lag4</th>\n",
       "      <th id=\"T_9140c_level0_col5\" class=\"col_heading level0 col5\" >DJ_return_lag5</th>\n",
       "      <th id=\"T_9140c_level0_col6\" class=\"col_heading level0 col6\" >log_volatility</th>\n",
       "      <th id=\"T_9140c_level0_col7\" class=\"col_heading level0 col7\" >log_volatility]_lag1</th>\n",
       "      <th id=\"T_9140c_level0_col8\" class=\"col_heading level0 col8\" >log_volatility]_lag2</th>\n",
       "      <th id=\"T_9140c_level0_col9\" class=\"col_heading level0 col9\" >log_volatility]_lag3</th>\n",
       "      <th id=\"T_9140c_level0_col10\" class=\"col_heading level0 col10\" >log_volatility]_lag4</th>\n",
       "      <th id=\"T_9140c_level0_col11\" class=\"col_heading level0 col11\" >log_volatility]_lag5</th>\n",
       "      <th id=\"T_9140c_level0_col12\" class=\"col_heading level0 col12\" >log_volume</th>\n",
       "      <th id=\"T_9140c_level0_col13\" class=\"col_heading level0 col13\" >log_volume_lag1</th>\n",
       "      <th id=\"T_9140c_level0_col14\" class=\"col_heading level0 col14\" >log_volume_lag2</th>\n",
       "      <th id=\"T_9140c_level0_col15\" class=\"col_heading level0 col15\" >log_volume_lag3</th>\n",
       "      <th id=\"T_9140c_level0_col16\" class=\"col_heading level0 col16\" >log_volume_lag4</th>\n",
       "      <th id=\"T_9140c_level0_col17\" class=\"col_heading level0 col17\" >log_volume_lag5</th>\n",
       "    </tr>\n",
       "  </thead>\n",
       "  <tbody>\n",
       "    <tr>\n",
       "      <th id=\"T_9140c_level0_row0\" class=\"row_heading level0 row0\" >DJ_return</th>\n",
       "      <td id=\"T_9140c_row0_col0\" class=\"data row0 col0\" >1.000000</td>\n",
       "      <td id=\"T_9140c_row0_col1\" class=\"data row0 col1\" >0.143388</td>\n",
       "      <td id=\"T_9140c_row0_col2\" class=\"data row0 col2\" >-0.003597</td>\n",
       "      <td id=\"T_9140c_row0_col3\" class=\"data row0 col3\" >-0.005304</td>\n",
       "      <td id=\"T_9140c_row0_col4\" class=\"data row0 col4\" >-0.005528</td>\n",
       "      <td id=\"T_9140c_row0_col5\" class=\"data row0 col5\" >-0.014239</td>\n",
       "      <td id=\"T_9140c_row0_col6\" class=\"data row0 col6\" >0.026793</td>\n",
       "      <td id=\"T_9140c_row0_col7\" class=\"data row0 col7\" >0.014177</td>\n",
       "      <td id=\"T_9140c_row0_col8\" class=\"data row0 col8\" >0.013557</td>\n",
       "      <td id=\"T_9140c_row0_col9\" class=\"data row0 col9\" >0.010581</td>\n",
       "      <td id=\"T_9140c_row0_col10\" class=\"data row0 col10\" >0.008297</td>\n",
       "      <td id=\"T_9140c_row0_col11\" class=\"data row0 col11\" >0.009971</td>\n",
       "      <td id=\"T_9140c_row0_col12\" class=\"data row0 col12\" >0.200892</td>\n",
       "      <td id=\"T_9140c_row0_col13\" class=\"data row0 col13\" >0.047600</td>\n",
       "      <td id=\"T_9140c_row0_col14\" class=\"data row0 col14\" >0.015934</td>\n",
       "      <td id=\"T_9140c_row0_col15\" class=\"data row0 col15\" >0.008729</td>\n",
       "      <td id=\"T_9140c_row0_col16\" class=\"data row0 col16\" >-0.004202</td>\n",
       "      <td id=\"T_9140c_row0_col17\" class=\"data row0 col17\" >0.002981</td>\n",
       "    </tr>\n",
       "    <tr>\n",
       "      <th id=\"T_9140c_level0_row1\" class=\"row_heading level0 row1\" >DJ_return_lag1</th>\n",
       "      <td id=\"T_9140c_row1_col0\" class=\"data row1 col0\" >0.143388</td>\n",
       "      <td id=\"T_9140c_row1_col1\" class=\"data row1 col1\" >1.000000</td>\n",
       "      <td id=\"T_9140c_row1_col2\" class=\"data row1 col2\" >0.143365</td>\n",
       "      <td id=\"T_9140c_row1_col3\" class=\"data row1 col3\" >-0.003752</td>\n",
       "      <td id=\"T_9140c_row1_col4\" class=\"data row1 col4\" >-0.005278</td>\n",
       "      <td id=\"T_9140c_row1_col5\" class=\"data row1 col5\" >-0.005428</td>\n",
       "      <td id=\"T_9140c_row1_col6\" class=\"data row1 col6\" >0.021996</td>\n",
       "      <td id=\"T_9140c_row1_col7\" class=\"data row1 col7\" >0.026778</td>\n",
       "      <td id=\"T_9140c_row1_col8\" class=\"data row1 col8\" >0.014163</td>\n",
       "      <td id=\"T_9140c_row1_col9\" class=\"data row1 col9\" >0.013561</td>\n",
       "      <td id=\"T_9140c_row1_col10\" class=\"data row1 col10\" >0.010570</td>\n",
       "      <td id=\"T_9140c_row1_col11\" class=\"data row1 col11\" >0.008303</td>\n",
       "      <td id=\"T_9140c_row1_col12\" class=\"data row1 col12\" >0.211669</td>\n",
       "      <td id=\"T_9140c_row1_col13\" class=\"data row1 col13\" >0.200776</td>\n",
       "      <td id=\"T_9140c_row1_col14\" class=\"data row1 col14\" >0.047396</td>\n",
       "      <td id=\"T_9140c_row1_col15\" class=\"data row1 col15\" >0.015730</td>\n",
       "      <td id=\"T_9140c_row1_col16\" class=\"data row1 col16\" >0.007997</td>\n",
       "      <td id=\"T_9140c_row1_col17\" class=\"data row1 col17\" >-0.004333</td>\n",
       "    </tr>\n",
       "    <tr>\n",
       "      <th id=\"T_9140c_level0_row2\" class=\"row_heading level0 row2\" >DJ_return_lag2</th>\n",
       "      <td id=\"T_9140c_row2_col0\" class=\"data row2 col0\" >-0.003597</td>\n",
       "      <td id=\"T_9140c_row2_col1\" class=\"data row2 col1\" >0.143365</td>\n",
       "      <td id=\"T_9140c_row2_col2\" class=\"data row2 col2\" >1.000000</td>\n",
       "      <td id=\"T_9140c_row2_col3\" class=\"data row2 col3\" >0.143336</td>\n",
       "      <td id=\"T_9140c_row2_col4\" class=\"data row2 col4\" >-0.003744</td>\n",
       "      <td id=\"T_9140c_row2_col5\" class=\"data row2 col5\" >-0.005249</td>\n",
       "      <td id=\"T_9140c_row2_col6\" class=\"data row2 col6\" >0.017013</td>\n",
       "      <td id=\"T_9140c_row2_col7\" class=\"data row2 col7\" >0.021991</td>\n",
       "      <td id=\"T_9140c_row2_col8\" class=\"data row2 col8\" >0.026773</td>\n",
       "      <td id=\"T_9140c_row2_col9\" class=\"data row2 col9\" >0.014164</td>\n",
       "      <td id=\"T_9140c_row2_col10\" class=\"data row2 col10\" >0.013557</td>\n",
       "      <td id=\"T_9140c_row2_col11\" class=\"data row2 col11\" >0.010572</td>\n",
       "      <td id=\"T_9140c_row2_col12\" class=\"data row2 col12\" >0.108032</td>\n",
       "      <td id=\"T_9140c_row2_col13\" class=\"data row2 col13\" >0.211648</td>\n",
       "      <td id=\"T_9140c_row2_col14\" class=\"data row2 col14\" >0.200756</td>\n",
       "      <td id=\"T_9140c_row2_col15\" class=\"data row2 col15\" >0.047345</td>\n",
       "      <td id=\"T_9140c_row2_col16\" class=\"data row2 col16\" >0.015549</td>\n",
       "      <td id=\"T_9140c_row2_col17\" class=\"data row2 col17\" >0.007959</td>\n",
       "    </tr>\n",
       "    <tr>\n",
       "      <th id=\"T_9140c_level0_row3\" class=\"row_heading level0 row3\" >DJ_return_lag3</th>\n",
       "      <td id=\"T_9140c_row3_col0\" class=\"data row3 col0\" >-0.005304</td>\n",
       "      <td id=\"T_9140c_row3_col1\" class=\"data row3 col1\" >-0.003752</td>\n",
       "      <td id=\"T_9140c_row3_col2\" class=\"data row3 col2\" >0.143336</td>\n",
       "      <td id=\"T_9140c_row3_col3\" class=\"data row3 col3\" >1.000000</td>\n",
       "      <td id=\"T_9140c_row3_col4\" class=\"data row3 col4\" >0.143389</td>\n",
       "      <td id=\"T_9140c_row3_col5\" class=\"data row3 col5\" >-0.003602</td>\n",
       "      <td id=\"T_9140c_row3_col6\" class=\"data row3 col6\" >0.011547</td>\n",
       "      <td id=\"T_9140c_row3_col7\" class=\"data row3 col7\" >0.016992</td>\n",
       "      <td id=\"T_9140c_row3_col8\" class=\"data row3 col8\" >0.021972</td>\n",
       "      <td id=\"T_9140c_row3_col9\" class=\"data row3 col9\" >0.026780</td>\n",
       "      <td id=\"T_9140c_row3_col10\" class=\"data row3 col10\" >0.014149</td>\n",
       "      <td id=\"T_9140c_row3_col11\" class=\"data row3 col11\" >0.013568</td>\n",
       "      <td id=\"T_9140c_row3_col12\" class=\"data row3 col12\" >0.110325</td>\n",
       "      <td id=\"T_9140c_row3_col13\" class=\"data row3 col13\" >0.107846</td>\n",
       "      <td id=\"T_9140c_row3_col14\" class=\"data row3 col14\" >0.211410</td>\n",
       "      <td id=\"T_9140c_row3_col15\" class=\"data row3 col15\" >0.200523</td>\n",
       "      <td id=\"T_9140c_row3_col16\" class=\"data row3 col16\" >0.046402</td>\n",
       "      <td id=\"T_9140c_row3_col17\" class=\"data row3 col17\" >0.015366</td>\n",
       "    </tr>\n",
       "    <tr>\n",
       "      <th id=\"T_9140c_level0_row4\" class=\"row_heading level0 row4\" >DJ_return_lag4</th>\n",
       "      <td id=\"T_9140c_row4_col0\" class=\"data row4 col0\" >-0.005528</td>\n",
       "      <td id=\"T_9140c_row4_col1\" class=\"data row4 col1\" >-0.005278</td>\n",
       "      <td id=\"T_9140c_row4_col2\" class=\"data row4 col2\" >-0.003744</td>\n",
       "      <td id=\"T_9140c_row4_col3\" class=\"data row4 col3\" >0.143389</td>\n",
       "      <td id=\"T_9140c_row4_col4\" class=\"data row4 col4\" >1.000000</td>\n",
       "      <td id=\"T_9140c_row4_col5\" class=\"data row4 col5\" >0.143372</td>\n",
       "      <td id=\"T_9140c_row4_col6\" class=\"data row4 col6\" >0.000350</td>\n",
       "      <td id=\"T_9140c_row4_col7\" class=\"data row4 col7\" >0.011551</td>\n",
       "      <td id=\"T_9140c_row4_col8\" class=\"data row4 col8\" >0.016995</td>\n",
       "      <td id=\"T_9140c_row4_col9\" class=\"data row4 col9\" >0.021972</td>\n",
       "      <td id=\"T_9140c_row4_col10\" class=\"data row4 col10\" >0.026783</td>\n",
       "      <td id=\"T_9140c_row4_col11\" class=\"data row4 col11\" >0.014148</td>\n",
       "      <td id=\"T_9140c_row4_col12\" class=\"data row4 col12\" >0.090132</td>\n",
       "      <td id=\"T_9140c_row4_col13\" class=\"data row4 col13\" >0.110372</td>\n",
       "      <td id=\"T_9140c_row4_col14\" class=\"data row4 col14\" >0.107921</td>\n",
       "      <td id=\"T_9140c_row4_col15\" class=\"data row4 col15\" >0.211503</td>\n",
       "      <td id=\"T_9140c_row4_col16\" class=\"data row4 col16\" >0.201233</td>\n",
       "      <td id=\"T_9140c_row4_col17\" class=\"data row4 col17\" >0.046438</td>\n",
       "    </tr>\n",
       "    <tr>\n",
       "      <th id=\"T_9140c_level0_row5\" class=\"row_heading level0 row5\" >DJ_return_lag5</th>\n",
       "      <td id=\"T_9140c_row5_col0\" class=\"data row5 col0\" >-0.014239</td>\n",
       "      <td id=\"T_9140c_row5_col1\" class=\"data row5 col1\" >-0.005428</td>\n",
       "      <td id=\"T_9140c_row5_col2\" class=\"data row5 col2\" >-0.005249</td>\n",
       "      <td id=\"T_9140c_row5_col3\" class=\"data row5 col3\" >-0.003602</td>\n",
       "      <td id=\"T_9140c_row5_col4\" class=\"data row5 col4\" >0.143372</td>\n",
       "      <td id=\"T_9140c_row5_col5\" class=\"data row5 col5\" >1.000000</td>\n",
       "      <td id=\"T_9140c_row5_col6\" class=\"data row5 col6\" >-0.006393</td>\n",
       "      <td id=\"T_9140c_row5_col7\" class=\"data row5 col7\" >0.000366</td>\n",
       "      <td id=\"T_9140c_row5_col8\" class=\"data row5 col8\" >0.011565</td>\n",
       "      <td id=\"T_9140c_row5_col9\" class=\"data row5 col9\" >0.016994</td>\n",
       "      <td id=\"T_9140c_row5_col10\" class=\"data row5 col10\" >0.021983</td>\n",
       "      <td id=\"T_9140c_row5_col11\" class=\"data row5 col11\" >0.026778</td>\n",
       "      <td id=\"T_9140c_row5_col12\" class=\"data row5 col12\" >0.070240</td>\n",
       "      <td id=\"T_9140c_row5_col13\" class=\"data row5 col13\" >0.090282</td>\n",
       "      <td id=\"T_9140c_row5_col14\" class=\"data row5 col14\" >0.110601</td>\n",
       "      <td id=\"T_9140c_row5_col15\" class=\"data row5 col15\" >0.108141</td>\n",
       "      <td id=\"T_9140c_row5_col16\" class=\"data row5 col16\" >0.212769</td>\n",
       "      <td id=\"T_9140c_row5_col17\" class=\"data row5 col17\" >0.201379</td>\n",
       "    </tr>\n",
       "    <tr>\n",
       "      <th id=\"T_9140c_level0_row6\" class=\"row_heading level0 row6\" >log_volatility</th>\n",
       "      <td id=\"T_9140c_row6_col0\" class=\"data row6 col0\" >0.026793</td>\n",
       "      <td id=\"T_9140c_row6_col1\" class=\"data row6 col1\" >0.021996</td>\n",
       "      <td id=\"T_9140c_row6_col2\" class=\"data row6 col2\" >0.017013</td>\n",
       "      <td id=\"T_9140c_row6_col3\" class=\"data row6 col3\" >0.011547</td>\n",
       "      <td id=\"T_9140c_row6_col4\" class=\"data row6 col4\" >0.000350</td>\n",
       "      <td id=\"T_9140c_row6_col5\" class=\"data row6 col5\" >-0.006393</td>\n",
       "      <td id=\"T_9140c_row6_col6\" class=\"data row6 col6\" >1.000000</td>\n",
       "      <td id=\"T_9140c_row6_col7\" class=\"data row6 col7\" >0.980054</td>\n",
       "      <td id=\"T_9140c_row6_col8\" class=\"data row6 col8\" >0.960890</td>\n",
       "      <td id=\"T_9140c_row6_col9\" class=\"data row6 col9\" >0.943046</td>\n",
       "      <td id=\"T_9140c_row6_col10\" class=\"data row6 col10\" >0.926665</td>\n",
       "      <td id=\"T_9140c_row6_col11\" class=\"data row6 col11\" >0.910997</td>\n",
       "      <td id=\"T_9140c_row6_col12\" class=\"data row6 col12\" >0.046306</td>\n",
       "      <td id=\"T_9140c_row6_col13\" class=\"data row6 col13\" >0.036211</td>\n",
       "      <td id=\"T_9140c_row6_col14\" class=\"data row6 col14\" >0.027911</td>\n",
       "      <td id=\"T_9140c_row6_col15\" class=\"data row6 col15\" >0.021485</td>\n",
       "      <td id=\"T_9140c_row6_col16\" class=\"data row6 col16\" >0.015350</td>\n",
       "      <td id=\"T_9140c_row6_col17\" class=\"data row6 col17\" >0.003120</td>\n",
       "    </tr>\n",
       "    <tr>\n",
       "      <th id=\"T_9140c_level0_row7\" class=\"row_heading level0 row7\" >log_volatility]_lag1</th>\n",
       "      <td id=\"T_9140c_row7_col0\" class=\"data row7 col0\" >0.014177</td>\n",
       "      <td id=\"T_9140c_row7_col1\" class=\"data row7 col1\" >0.026778</td>\n",
       "      <td id=\"T_9140c_row7_col2\" class=\"data row7 col2\" >0.021991</td>\n",
       "      <td id=\"T_9140c_row7_col3\" class=\"data row7 col3\" >0.016992</td>\n",
       "      <td id=\"T_9140c_row7_col4\" class=\"data row7 col4\" >0.011551</td>\n",
       "      <td id=\"T_9140c_row7_col5\" class=\"data row7 col5\" >0.000366</td>\n",
       "      <td id=\"T_9140c_row7_col6\" class=\"data row7 col6\" >0.980054</td>\n",
       "      <td id=\"T_9140c_row7_col7\" class=\"data row7 col7\" >1.000000</td>\n",
       "      <td id=\"T_9140c_row7_col8\" class=\"data row7 col8\" >0.980054</td>\n",
       "      <td id=\"T_9140c_row7_col9\" class=\"data row7 col9\" >0.960892</td>\n",
       "      <td id=\"T_9140c_row7_col10\" class=\"data row7 col10\" >0.943046</td>\n",
       "      <td id=\"T_9140c_row7_col11\" class=\"data row7 col11\" >0.926668</td>\n",
       "      <td id=\"T_9140c_row7_col12\" class=\"data row7 col12\" >0.010394</td>\n",
       "      <td id=\"T_9140c_row7_col13\" class=\"data row7 col13\" >0.046288</td>\n",
       "      <td id=\"T_9140c_row7_col14\" class=\"data row7 col14\" >0.036186</td>\n",
       "      <td id=\"T_9140c_row7_col15\" class=\"data row7 col15\" >0.027885</td>\n",
       "      <td id=\"T_9140c_row7_col16\" class=\"data row7 col16\" >0.021425</td>\n",
       "      <td id=\"T_9140c_row7_col17\" class=\"data row7 col17\" >0.015331</td>\n",
       "    </tr>\n",
       "    <tr>\n",
       "      <th id=\"T_9140c_level0_row8\" class=\"row_heading level0 row8\" >log_volatility]_lag2</th>\n",
       "      <td id=\"T_9140c_row8_col0\" class=\"data row8 col0\" >0.013557</td>\n",
       "      <td id=\"T_9140c_row8_col1\" class=\"data row8 col1\" >0.014163</td>\n",
       "      <td id=\"T_9140c_row8_col2\" class=\"data row8 col2\" >0.026773</td>\n",
       "      <td id=\"T_9140c_row8_col3\" class=\"data row8 col3\" >0.021972</td>\n",
       "      <td id=\"T_9140c_row8_col4\" class=\"data row8 col4\" >0.016995</td>\n",
       "      <td id=\"T_9140c_row8_col5\" class=\"data row8 col5\" >0.011565</td>\n",
       "      <td id=\"T_9140c_row8_col6\" class=\"data row8 col6\" >0.960890</td>\n",
       "      <td id=\"T_9140c_row8_col7\" class=\"data row8 col7\" >0.980054</td>\n",
       "      <td id=\"T_9140c_row8_col8\" class=\"data row8 col8\" >1.000000</td>\n",
       "      <td id=\"T_9140c_row8_col9\" class=\"data row8 col9\" >0.980056</td>\n",
       "      <td id=\"T_9140c_row8_col10\" class=\"data row8 col10\" >0.960892</td>\n",
       "      <td id=\"T_9140c_row8_col11\" class=\"data row8 col11\" >0.943049</td>\n",
       "      <td id=\"T_9140c_row8_col12\" class=\"data row8 col12\" >-0.029914</td>\n",
       "      <td id=\"T_9140c_row8_col13\" class=\"data row8 col13\" >0.010375</td>\n",
       "      <td id=\"T_9140c_row8_col14\" class=\"data row8 col14\" >0.046269</td>\n",
       "      <td id=\"T_9140c_row8_col15\" class=\"data row8 col15\" >0.036164</td>\n",
       "      <td id=\"T_9140c_row8_col16\" class=\"data row8 col16\" >0.027853</td>\n",
       "      <td id=\"T_9140c_row8_col17\" class=\"data row8 col17\" >0.021409</td>\n",
       "    </tr>\n",
       "    <tr>\n",
       "      <th id=\"T_9140c_level0_row9\" class=\"row_heading level0 row9\" >log_volatility]_lag3</th>\n",
       "      <td id=\"T_9140c_row9_col0\" class=\"data row9 col0\" >0.010581</td>\n",
       "      <td id=\"T_9140c_row9_col1\" class=\"data row9 col1\" >0.013561</td>\n",
       "      <td id=\"T_9140c_row9_col2\" class=\"data row9 col2\" >0.014164</td>\n",
       "      <td id=\"T_9140c_row9_col3\" class=\"data row9 col3\" >0.026780</td>\n",
       "      <td id=\"T_9140c_row9_col4\" class=\"data row9 col4\" >0.021972</td>\n",
       "      <td id=\"T_9140c_row9_col5\" class=\"data row9 col5\" >0.016994</td>\n",
       "      <td id=\"T_9140c_row9_col6\" class=\"data row9 col6\" >0.943046</td>\n",
       "      <td id=\"T_9140c_row9_col7\" class=\"data row9 col7\" >0.960892</td>\n",
       "      <td id=\"T_9140c_row9_col8\" class=\"data row9 col8\" >0.980056</td>\n",
       "      <td id=\"T_9140c_row9_col9\" class=\"data row9 col9\" >1.000000</td>\n",
       "      <td id=\"T_9140c_row9_col10\" class=\"data row9 col10\" >0.980056</td>\n",
       "      <td id=\"T_9140c_row9_col11\" class=\"data row9 col11\" >0.960892</td>\n",
       "      <td id=\"T_9140c_row9_col12\" class=\"data row9 col12\" >-0.034688</td>\n",
       "      <td id=\"T_9140c_row9_col13\" class=\"data row9 col13\" >-0.029913</td>\n",
       "      <td id=\"T_9140c_row9_col14\" class=\"data row9 col14\" >0.010383</td>\n",
       "      <td id=\"T_9140c_row9_col15\" class=\"data row9 col15\" >0.046283</td>\n",
       "      <td id=\"T_9140c_row9_col16\" class=\"data row9 col16\" >0.036277</td>\n",
       "      <td id=\"T_9140c_row9_col17\" class=\"data row9 col17\" >0.027859</td>\n",
       "    </tr>\n",
       "    <tr>\n",
       "      <th id=\"T_9140c_level0_row10\" class=\"row_heading level0 row10\" >log_volatility]_lag4</th>\n",
       "      <td id=\"T_9140c_row10_col0\" class=\"data row10 col0\" >0.008297</td>\n",
       "      <td id=\"T_9140c_row10_col1\" class=\"data row10 col1\" >0.010570</td>\n",
       "      <td id=\"T_9140c_row10_col2\" class=\"data row10 col2\" >0.013557</td>\n",
       "      <td id=\"T_9140c_row10_col3\" class=\"data row10 col3\" >0.014149</td>\n",
       "      <td id=\"T_9140c_row10_col4\" class=\"data row10 col4\" >0.026783</td>\n",
       "      <td id=\"T_9140c_row10_col5\" class=\"data row10 col5\" >0.021983</td>\n",
       "      <td id=\"T_9140c_row10_col6\" class=\"data row10 col6\" >0.926665</td>\n",
       "      <td id=\"T_9140c_row10_col7\" class=\"data row10 col7\" >0.943046</td>\n",
       "      <td id=\"T_9140c_row10_col8\" class=\"data row10 col8\" >0.960892</td>\n",
       "      <td id=\"T_9140c_row10_col9\" class=\"data row10 col9\" >0.980056</td>\n",
       "      <td id=\"T_9140c_row10_col10\" class=\"data row10 col10\" >1.000000</td>\n",
       "      <td id=\"T_9140c_row10_col11\" class=\"data row10 col11\" >0.980058</td>\n",
       "      <td id=\"T_9140c_row10_col12\" class=\"data row10 col12\" >-0.036280</td>\n",
       "      <td id=\"T_9140c_row10_col13\" class=\"data row10 col13\" >-0.034707</td>\n",
       "      <td id=\"T_9140c_row10_col14\" class=\"data row10 col14\" >-0.029942</td>\n",
       "      <td id=\"T_9140c_row10_col15\" class=\"data row10 col15\" >0.010363</td>\n",
       "      <td id=\"T_9140c_row10_col16\" class=\"data row10 col16\" >0.046326</td>\n",
       "      <td id=\"T_9140c_row10_col17\" class=\"data row10 col17\" >0.036266</td>\n",
       "    </tr>\n",
       "    <tr>\n",
       "      <th id=\"T_9140c_level0_row11\" class=\"row_heading level0 row11\" >log_volatility]_lag5</th>\n",
       "      <td id=\"T_9140c_row11_col0\" class=\"data row11 col0\" >0.009971</td>\n",
       "      <td id=\"T_9140c_row11_col1\" class=\"data row11 col1\" >0.008303</td>\n",
       "      <td id=\"T_9140c_row11_col2\" class=\"data row11 col2\" >0.010572</td>\n",
       "      <td id=\"T_9140c_row11_col3\" class=\"data row11 col3\" >0.013568</td>\n",
       "      <td id=\"T_9140c_row11_col4\" class=\"data row11 col4\" >0.014148</td>\n",
       "      <td id=\"T_9140c_row11_col5\" class=\"data row11 col5\" >0.026778</td>\n",
       "      <td id=\"T_9140c_row11_col6\" class=\"data row11 col6\" >0.910997</td>\n",
       "      <td id=\"T_9140c_row11_col7\" class=\"data row11 col7\" >0.926668</td>\n",
       "      <td id=\"T_9140c_row11_col8\" class=\"data row11 col8\" >0.943049</td>\n",
       "      <td id=\"T_9140c_row11_col9\" class=\"data row11 col9\" >0.960892</td>\n",
       "      <td id=\"T_9140c_row11_col10\" class=\"data row11 col10\" >0.980058</td>\n",
       "      <td id=\"T_9140c_row11_col11\" class=\"data row11 col11\" >1.000000</td>\n",
       "      <td id=\"T_9140c_row11_col12\" class=\"data row11 col12\" >-0.037650</td>\n",
       "      <td id=\"T_9140c_row11_col13\" class=\"data row11 col13\" >-0.036275</td>\n",
       "      <td id=\"T_9140c_row11_col14\" class=\"data row11 col14\" >-0.034702</td>\n",
       "      <td id=\"T_9140c_row11_col15\" class=\"data row11 col15\" >-0.029936</td>\n",
       "      <td id=\"T_9140c_row11_col16\" class=\"data row11 col16\" >0.010434</td>\n",
       "      <td id=\"T_9140c_row11_col17\" class=\"data row11 col17\" >0.046338</td>\n",
       "    </tr>\n",
       "    <tr>\n",
       "      <th id=\"T_9140c_level0_row12\" class=\"row_heading level0 row12\" >log_volume</th>\n",
       "      <td id=\"T_9140c_row12_col0\" class=\"data row12 col0\" >0.200892</td>\n",
       "      <td id=\"T_9140c_row12_col1\" class=\"data row12 col1\" >0.211669</td>\n",
       "      <td id=\"T_9140c_row12_col2\" class=\"data row12 col2\" >0.108032</td>\n",
       "      <td id=\"T_9140c_row12_col3\" class=\"data row12 col3\" >0.110325</td>\n",
       "      <td id=\"T_9140c_row12_col4\" class=\"data row12 col4\" >0.090132</td>\n",
       "      <td id=\"T_9140c_row12_col5\" class=\"data row12 col5\" >0.070240</td>\n",
       "      <td id=\"T_9140c_row12_col6\" class=\"data row12 col6\" >0.046306</td>\n",
       "      <td id=\"T_9140c_row12_col7\" class=\"data row12 col7\" >0.010394</td>\n",
       "      <td id=\"T_9140c_row12_col8\" class=\"data row12 col8\" >-0.029914</td>\n",
       "      <td id=\"T_9140c_row12_col9\" class=\"data row12 col9\" >-0.034688</td>\n",
       "      <td id=\"T_9140c_row12_col10\" class=\"data row12 col10\" >-0.036280</td>\n",
       "      <td id=\"T_9140c_row12_col11\" class=\"data row12 col11\" >-0.037650</td>\n",
       "      <td id=\"T_9140c_row12_col12\" class=\"data row12 col12\" >1.000000</td>\n",
       "      <td id=\"T_9140c_row12_col13\" class=\"data row12 col13\" >0.673242</td>\n",
       "      <td id=\"T_9140c_row12_col14\" class=\"data row12 col14\" >0.498359</td>\n",
       "      <td id=\"T_9140c_row12_col15\" class=\"data row12 col15\" >0.458851</td>\n",
       "      <td id=\"T_9140c_row12_col16\" class=\"data row12 col16\" >0.460242</td>\n",
       "      <td id=\"T_9140c_row12_col17\" class=\"data row12 col17\" >0.455332</td>\n",
       "    </tr>\n",
       "    <tr>\n",
       "      <th id=\"T_9140c_level0_row13\" class=\"row_heading level0 row13\" >log_volume_lag1</th>\n",
       "      <td id=\"T_9140c_row13_col0\" class=\"data row13 col0\" >0.047600</td>\n",
       "      <td id=\"T_9140c_row13_col1\" class=\"data row13 col1\" >0.200776</td>\n",
       "      <td id=\"T_9140c_row13_col2\" class=\"data row13 col2\" >0.211648</td>\n",
       "      <td id=\"T_9140c_row13_col3\" class=\"data row13 col3\" >0.107846</td>\n",
       "      <td id=\"T_9140c_row13_col4\" class=\"data row13 col4\" >0.110372</td>\n",
       "      <td id=\"T_9140c_row13_col5\" class=\"data row13 col5\" >0.090282</td>\n",
       "      <td id=\"T_9140c_row13_col6\" class=\"data row13 col6\" >0.036211</td>\n",
       "      <td id=\"T_9140c_row13_col7\" class=\"data row13 col7\" >0.046288</td>\n",
       "      <td id=\"T_9140c_row13_col8\" class=\"data row13 col8\" >0.010375</td>\n",
       "      <td id=\"T_9140c_row13_col9\" class=\"data row13 col9\" >-0.029913</td>\n",
       "      <td id=\"T_9140c_row13_col10\" class=\"data row13 col10\" >-0.034707</td>\n",
       "      <td id=\"T_9140c_row13_col11\" class=\"data row13 col11\" >-0.036275</td>\n",
       "      <td id=\"T_9140c_row13_col12\" class=\"data row13 col12\" >0.673242</td>\n",
       "      <td id=\"T_9140c_row13_col13\" class=\"data row13 col13\" >1.000000</td>\n",
       "      <td id=\"T_9140c_row13_col14\" class=\"data row13 col14\" >0.673161</td>\n",
       "      <td id=\"T_9140c_row13_col15\" class=\"data row13 col15\" >0.498226</td>\n",
       "      <td id=\"T_9140c_row13_col16\" class=\"data row13 col16\" >0.459078</td>\n",
       "      <td id=\"T_9140c_row13_col17\" class=\"data row13 col17\" >0.460147</td>\n",
       "    </tr>\n",
       "    <tr>\n",
       "      <th id=\"T_9140c_level0_row14\" class=\"row_heading level0 row14\" >log_volume_lag2</th>\n",
       "      <td id=\"T_9140c_row14_col0\" class=\"data row14 col0\" >0.015934</td>\n",
       "      <td id=\"T_9140c_row14_col1\" class=\"data row14 col1\" >0.047396</td>\n",
       "      <td id=\"T_9140c_row14_col2\" class=\"data row14 col2\" >0.200756</td>\n",
       "      <td id=\"T_9140c_row14_col3\" class=\"data row14 col3\" >0.211410</td>\n",
       "      <td id=\"T_9140c_row14_col4\" class=\"data row14 col4\" >0.107921</td>\n",
       "      <td id=\"T_9140c_row14_col5\" class=\"data row14 col5\" >0.110601</td>\n",
       "      <td id=\"T_9140c_row14_col6\" class=\"data row14 col6\" >0.027911</td>\n",
       "      <td id=\"T_9140c_row14_col7\" class=\"data row14 col7\" >0.036186</td>\n",
       "      <td id=\"T_9140c_row14_col8\" class=\"data row14 col8\" >0.046269</td>\n",
       "      <td id=\"T_9140c_row14_col9\" class=\"data row14 col9\" >0.010383</td>\n",
       "      <td id=\"T_9140c_row14_col10\" class=\"data row14 col10\" >-0.029942</td>\n",
       "      <td id=\"T_9140c_row14_col11\" class=\"data row14 col11\" >-0.034702</td>\n",
       "      <td id=\"T_9140c_row14_col12\" class=\"data row14 col12\" >0.498359</td>\n",
       "      <td id=\"T_9140c_row14_col13\" class=\"data row14 col13\" >0.673161</td>\n",
       "      <td id=\"T_9140c_row14_col14\" class=\"data row14 col14\" >1.000000</td>\n",
       "      <td id=\"T_9140c_row14_col15\" class=\"data row14 col15\" >0.673025</td>\n",
       "      <td id=\"T_9140c_row14_col16\" class=\"data row14 col16\" >0.498136</td>\n",
       "      <td id=\"T_9140c_row14_col17\" class=\"data row14 col17\" >0.458952</td>\n",
       "    </tr>\n",
       "    <tr>\n",
       "      <th id=\"T_9140c_level0_row15\" class=\"row_heading level0 row15\" >log_volume_lag3</th>\n",
       "      <td id=\"T_9140c_row15_col0\" class=\"data row15 col0\" >0.008729</td>\n",
       "      <td id=\"T_9140c_row15_col1\" class=\"data row15 col1\" >0.015730</td>\n",
       "      <td id=\"T_9140c_row15_col2\" class=\"data row15 col2\" >0.047345</td>\n",
       "      <td id=\"T_9140c_row15_col3\" class=\"data row15 col3\" >0.200523</td>\n",
       "      <td id=\"T_9140c_row15_col4\" class=\"data row15 col4\" >0.211503</td>\n",
       "      <td id=\"T_9140c_row15_col5\" class=\"data row15 col5\" >0.108141</td>\n",
       "      <td id=\"T_9140c_row15_col6\" class=\"data row15 col6\" >0.021485</td>\n",
       "      <td id=\"T_9140c_row15_col7\" class=\"data row15 col7\" >0.027885</td>\n",
       "      <td id=\"T_9140c_row15_col8\" class=\"data row15 col8\" >0.036164</td>\n",
       "      <td id=\"T_9140c_row15_col9\" class=\"data row15 col9\" >0.046283</td>\n",
       "      <td id=\"T_9140c_row15_col10\" class=\"data row15 col10\" >0.010363</td>\n",
       "      <td id=\"T_9140c_row15_col11\" class=\"data row15 col11\" >-0.029936</td>\n",
       "      <td id=\"T_9140c_row15_col12\" class=\"data row15 col12\" >0.458851</td>\n",
       "      <td id=\"T_9140c_row15_col13\" class=\"data row15 col13\" >0.498226</td>\n",
       "      <td id=\"T_9140c_row15_col14\" class=\"data row15 col14\" >0.673025</td>\n",
       "      <td id=\"T_9140c_row15_col15\" class=\"data row15 col15\" >1.000000</td>\n",
       "      <td id=\"T_9140c_row15_col16\" class=\"data row15 col16\" >0.673479</td>\n",
       "      <td id=\"T_9140c_row15_col17\" class=\"data row15 col17\" >0.498024</td>\n",
       "    </tr>\n",
       "    <tr>\n",
       "      <th id=\"T_9140c_level0_row16\" class=\"row_heading level0 row16\" >log_volume_lag4</th>\n",
       "      <td id=\"T_9140c_row16_col0\" class=\"data row16 col0\" >-0.004202</td>\n",
       "      <td id=\"T_9140c_row16_col1\" class=\"data row16 col1\" >0.007997</td>\n",
       "      <td id=\"T_9140c_row16_col2\" class=\"data row16 col2\" >0.015549</td>\n",
       "      <td id=\"T_9140c_row16_col3\" class=\"data row16 col3\" >0.046402</td>\n",
       "      <td id=\"T_9140c_row16_col4\" class=\"data row16 col4\" >0.201233</td>\n",
       "      <td id=\"T_9140c_row16_col5\" class=\"data row16 col5\" >0.212769</td>\n",
       "      <td id=\"T_9140c_row16_col6\" class=\"data row16 col6\" >0.015350</td>\n",
       "      <td id=\"T_9140c_row16_col7\" class=\"data row16 col7\" >0.021425</td>\n",
       "      <td id=\"T_9140c_row16_col8\" class=\"data row16 col8\" >0.027853</td>\n",
       "      <td id=\"T_9140c_row16_col9\" class=\"data row16 col9\" >0.036277</td>\n",
       "      <td id=\"T_9140c_row16_col10\" class=\"data row16 col10\" >0.046326</td>\n",
       "      <td id=\"T_9140c_row16_col11\" class=\"data row16 col11\" >0.010434</td>\n",
       "      <td id=\"T_9140c_row16_col12\" class=\"data row16 col12\" >0.460242</td>\n",
       "      <td id=\"T_9140c_row16_col13\" class=\"data row16 col13\" >0.459078</td>\n",
       "      <td id=\"T_9140c_row16_col14\" class=\"data row16 col14\" >0.498136</td>\n",
       "      <td id=\"T_9140c_row16_col15\" class=\"data row16 col15\" >0.673479</td>\n",
       "      <td id=\"T_9140c_row16_col16\" class=\"data row16 col16\" >1.000000</td>\n",
       "      <td id=\"T_9140c_row16_col17\" class=\"data row16 col17\" >0.674388</td>\n",
       "    </tr>\n",
       "    <tr>\n",
       "      <th id=\"T_9140c_level0_row17\" class=\"row_heading level0 row17\" >log_volume_lag5</th>\n",
       "      <td id=\"T_9140c_row17_col0\" class=\"data row17 col0\" >0.002981</td>\n",
       "      <td id=\"T_9140c_row17_col1\" class=\"data row17 col1\" >-0.004333</td>\n",
       "      <td id=\"T_9140c_row17_col2\" class=\"data row17 col2\" >0.007959</td>\n",
       "      <td id=\"T_9140c_row17_col3\" class=\"data row17 col3\" >0.015366</td>\n",
       "      <td id=\"T_9140c_row17_col4\" class=\"data row17 col4\" >0.046438</td>\n",
       "      <td id=\"T_9140c_row17_col5\" class=\"data row17 col5\" >0.201379</td>\n",
       "      <td id=\"T_9140c_row17_col6\" class=\"data row17 col6\" >0.003120</td>\n",
       "      <td id=\"T_9140c_row17_col7\" class=\"data row17 col7\" >0.015331</td>\n",
       "      <td id=\"T_9140c_row17_col8\" class=\"data row17 col8\" >0.021409</td>\n",
       "      <td id=\"T_9140c_row17_col9\" class=\"data row17 col9\" >0.027859</td>\n",
       "      <td id=\"T_9140c_row17_col10\" class=\"data row17 col10\" >0.036266</td>\n",
       "      <td id=\"T_9140c_row17_col11\" class=\"data row17 col11\" >0.046338</td>\n",
       "      <td id=\"T_9140c_row17_col12\" class=\"data row17 col12\" >0.455332</td>\n",
       "      <td id=\"T_9140c_row17_col13\" class=\"data row17 col13\" >0.460147</td>\n",
       "      <td id=\"T_9140c_row17_col14\" class=\"data row17 col14\" >0.458952</td>\n",
       "      <td id=\"T_9140c_row17_col15\" class=\"data row17 col15\" >0.498024</td>\n",
       "      <td id=\"T_9140c_row17_col16\" class=\"data row17 col16\" >0.674388</td>\n",
       "      <td id=\"T_9140c_row17_col17\" class=\"data row17 col17\" >1.000000</td>\n",
       "    </tr>\n",
       "  </tbody>\n",
       "</table>\n"
      ],
      "text/plain": [
       "<pandas.io.formats.style.Styler at 0x7fecba935a30>"
      ]
     },
     "execution_count": 87,
     "metadata": {},
     "output_type": "execute_result"
    }
   ],
   "source": [
    "corr = NYSE.filter(regex = 'log_volume*|DJ_return*|log_volatility*').corr()\n",
    "corr.style.background_gradient(cmap = 'coolwarm')"
   ]
  },
  {
   "cell_type": "code",
   "execution_count": 88,
   "id": "51a85b81",
   "metadata": {},
   "outputs": [
    {
     "data": {
      "image/png": "[encoded data removed]",
      "text/plain": [
       "<Figure size 432x288 with 1 Axes>"
      ]
     },
     "metadata": {
      "needs_background": "light"
     },
     "output_type": "display_data"
    }
   ],
   "source": [
    "plt.figure()\n",
    "corr['log_volume'].filter(regex = 'DJ_return*').plot(\n",
    "    x = range(1, L + 1),\n",
    "    kind = 'bar',\n",
    "    use_index = False\n",
    "    ).set_xlabel('lag')\n",
    "plt.title('corr btw lags of DJ_return and log_volume')\n",
    "plt.show()"
   ]
  },
  {
   "cell_type": "code",
   "execution_count": 89,
   "id": "7232f320",
   "metadata": {
    "scrolled": true
   },
   "outputs": [
    {
     "data": {
      "image/png": "[encoded data removed]",
      "text/plain": [
       "<Figure size 432x288 with 1 Axes>"
      ]
     },
     "metadata": {
      "needs_background": "light"
     },
     "output_type": "display_data"
    }
   ],
   "source": [
    "plt.figure()\n",
    "corr['log_volume'].filter(regex = 'log_volatility*').plot(\n",
    "    x = range(1, L + 1),\n",
    "    kind = 'bar',\n",
    "    use_index = False\n",
    "    ).set_xlabel('lag')\n",
    "plt.title('corr btw lags of log_volatility and log_volume')\n",
    "plt.show()"
   ]
  },
  {
   "cell_type": "code",
   "execution_count": 9,
   "id": "bc58cb33",
   "metadata": {},
   "outputs": [
    {
     "name": "stdout",
     "output_type": "stream",
     "text": [
      "Train set shape: (4276, 15) (4276,)\n",
      "Test set shape: (1770, 15) (1770,)\n"
     ]
    }
   ],
   "source": [
    "include_dow = False\n",
    "if include_dow:\n",
    "    X_other = NYSE_other.drop(['train','DJ_return','log_volume','log_volatility'],axis =1)\n",
    "    y_other = NYSE_other['log_volume']\n",
    "\n",
    "    X_test = NYSE_test.drop(['train','DJ_return','log_volume','log_volatility'],axis =1)\n",
    "    y_test = NYSE_test['log_volume']\n",
    "else:\n",
    "    X_other = NYSE_other.drop(['train','DJ_return','log_volume','log_volatility','day_of_week'],axis =1)\n",
    "    y_other = NYSE_other['log_volume']\n",
    "    \n",
    "    X_test = NYSE_test.drop(['train','DJ_return','log_volume','log_volatility','day_of_week'],axis =1)\n",
    "    y_test = NYSE_test['log_volume']\n",
    "    \n",
    "print('Train set shape:',X_other.shape,y_other.shape)\n",
    "print('Test set shape:',X_test.shape,y_test.shape)"
   ]
  },
  {
   "cell_type": "code",
   "execution_count": 10,
   "id": "042ef0c5",
   "metadata": {},
   "outputs": [
    {
     "name": "stdout",
     "output_type": "stream",
     "text": [
      "Straw man train R2:  0.4199386914132621\n"
     ]
    }
   ],
   "source": [
    "r2_train_strawman = r2_score(y_other,X_other['log_volume_lag1'])\n",
    "print('Straw man train R2: ', r2_train_strawman)"
   ]
  },
  {
   "cell_type": "code",
   "execution_count": 11,
   "id": "16f6f0e3",
   "metadata": {},
   "outputs": [
    {
     "name": "stdout",
     "output_type": "stream",
     "text": [
      "Straw man test R2:  0.18026287838158628\n"
     ]
    }
   ],
   "source": [
    "r2_test_strawman = r2_score(y_test,X_test['log_volume_lag1'])\n",
    "print('Straw man test R2: ', r2_test_strawman)"
   ]
  },
  {
   "cell_type": "code",
   "execution_count": 61,
   "id": "ac70a175",
   "metadata": {},
   "outputs": [
    {
     "data": {
      "text/plain": [
       "ColumnTransformer(transformers=[('num',\n",
       "                                 Pipeline(steps=[('std', StandardScaler())]),\n",
       "                                 Index(['DJ_return_lag1', 'DJ_return_lag2', 'DJ_return_lag3', 'DJ_return_lag4',\n",
       "       'DJ_return_lag5', 'log_volatility]_lag1', 'log_volatility]_lag2',\n",
       "       'log_volatility]_lag3', 'log_volatility]_lag4', 'log_volatility]_lag5',\n",
       "       'log_volume_lag1', 'log_volume_lag2', 'log_volume_lag3',\n",
       "       'log_volume_lag4', 'log_volume_lag5'],\n",
       "      dtype='object')),\n",
       "                                ('cat',\n",
       "                                 Pipeline(steps=[('encoder',\n",
       "                                                  OneHotEncoder(drop='first'))]),\n",
       "                                 Index([], dtype='object'))])"
      ]
     },
     "execution_count": 61,
     "metadata": {},
     "output_type": "execute_result"
    }
   ],
   "source": [
    "cat_features = X_other.select_dtypes(exclude = 'float64').columns\n",
    "num_features = X_other.select_dtypes('float64').columns\n",
    "\n",
    "cat_tf = Pipeline(steps = [('encoder',OneHotEncoder(drop = 'first'))])\n",
    "\n",
    "num_tf = Pipeline(steps = [('std',StandardScaler())])\n",
    "col_tf = ColumnTransformer(transformers = [('num',num_tf,num_features),('cat',cat_tf,cat_features)])\n",
    "\n",
    "col_tf"
   ]
  },
  {
   "cell_type": "code",
   "execution_count": 13,
   "id": "0f42272a",
   "metadata": {},
   "outputs": [],
   "source": [
    "# elestic net model"
   ]
  },
  {
   "cell_type": "code",
   "execution_count": 14,
   "id": "4496d2aa",
   "metadata": {},
   "outputs": [
    {
     "data": {
      "text/plain": [
       "ElasticNet(max_iter=10000, random_state=425, warm_start=True)"
      ]
     },
     "execution_count": 14,
     "metadata": {},
     "output_type": "execute_result"
    }
   ],
   "source": [
    "enet_mod = ElasticNet(\n",
    "    alpha = 1.0,\n",
    "    l1_ratio = 0.5, \n",
    "    max_iter = 10000, \n",
    "    warm_start = True, \n",
    "    random_state = 425)\n",
    "enet_mod"
   ]
  },
  {
   "cell_type": "code",
   "execution_count": 15,
   "id": "b40d13dc",
   "metadata": {
    "scrolled": true
   },
   "outputs": [
    {
     "data": {
      "text/plain": [
       "Pipeline(steps=[('col_tf',\n",
       "                 ColumnTransformer(transformers=[('num',\n",
       "                                                  Pipeline(steps=[('std',\n",
       "                                                                   StandardScaler())]),\n",
       "                                                  Index(['DJ_return_lag1', 'DJ_return_lag2', 'DJ_return_lag3', 'DJ_return_lag4',\n",
       "       'DJ_return_lag5', 'log_volatility]_lag1', 'log_volatility]_lag2',\n",
       "       'log_volatility]_lag3', 'log_volatility]_lag4', 'log_volatility]_lag5',\n",
       "       'log_volume_lag1', 'log_volume_lag2', 'log_volume_lag3',\n",
       "       'log_volume_lag4', 'log_volume_lag5'],\n",
       "      dtype='object')),\n",
       "                                                 ('cat',\n",
       "                                                  Pipeline(steps=[('encoder',\n",
       "                                                                   OneHotEncoder(drop='first'))]),\n",
       "                                                  Index([], dtype='object'))])),\n",
       "                ('model',\n",
       "                 ElasticNet(max_iter=10000, random_state=425,\n",
       "                            warm_start=True))])"
      ]
     },
     "execution_count": 15,
     "metadata": {},
     "output_type": "execute_result"
    }
   ],
   "source": [
    "enet_pipe = Pipeline(steps = [('col_tf',enet_col_tf),('model',enet_mod)])\n",
    "enet_pipe"
   ]
  },
  {
   "cell_type": "code",
   "execution_count": 16,
   "id": "1d2c8c5c",
   "metadata": {},
   "outputs": [
    {
     "data": {
      "text/plain": [
       "{'model__alpha': array([1.00000000e-12, 3.59381366e-11, 1.29154967e-09, 4.64158883e-08,\n",
       "        1.66810054e-06, 5.99484250e-05, 2.15443469e-03, 7.74263683e-02,\n",
       "        2.78255940e+00, 1.00000000e+02]),\n",
       " 'model__l1_ratio': [0.0, 0.2, 0.4, 0.6, 0.8, 1.0]}"
      ]
     },
     "execution_count": 16,
     "metadata": {},
     "output_type": "execute_result"
    }
   ],
   "source": [
    "alpha_grid = np.logspace(start = -12, stop = 2, num =10)\n",
    "l1_ratio_grid = [0.0,0.2,0.4,0.6,0.8,1.0]\n",
    "enet_tuned_parameters = {'model__alpha':alpha_grid, 'model__l1_ratio':l1_ratio_grid}\n",
    "enet_tuned_parameters"
   ]
  },
  {
   "cell_type": "code",
   "execution_count": 17,
   "id": "c7fa526d",
   "metadata": {},
   "outputs": [],
   "source": [
    "enet_search = GridSearchCV(\n",
    "  enet_pipe, \n",
    "  enet_tuned_parameters, \n",
    "  cv = TimeSeriesSplit(5),\n",
    "    scoring = 'r2',\n",
    "  # Refit the best model on the whole data set\n",
    "  refit = True \n",
    "  )"
   ]
  },
  {
   "cell_type": "code",
   "execution_count": 18,
   "id": "6ec71b72",
   "metadata": {},
   "outputs": [
    {
     "name": "stderr",
     "output_type": "stream",
     "text": [
      "/Users/kimberly/opt/anaconda3/lib/python3.9/site-packages/sklearn/linear_model/_coordinate_descent.py:647: ConvergenceWarning: Objective did not converge. You might want to increase the number of iterations, check the scale of the features or consider increasing regularisation. Duality gap: 5.786e+00, tolerance: 2.662e-03 Linear regression models with null weight for the l1 regularization term are more efficiently fitted using one of the solvers implemented in sklearn.linear_model.Ridge/RidgeCV instead.\n",
      "  model = cd_fast.enet_coordinate_descent(\n",
      "/Users/kimberly/opt/anaconda3/lib/python3.9/site-packages/sklearn/linear_model/_coordinate_descent.py:647: ConvergenceWarning: Objective did not converge. You might want to increase the number of iterations, check the scale of the features or consider increasing regularisation. Duality gap: 1.254e+01, tolerance: 6.028e-03 Linear regression models with null weight for the l1 regularization term are more efficiently fitted using one of the solvers implemented in sklearn.linear_model.Ridge/RidgeCV instead.\n",
      "  model = cd_fast.enet_coordinate_descent(\n",
      "/Users/kimberly/opt/anaconda3/lib/python3.9/site-packages/sklearn/linear_model/_coordinate_descent.py:647: ConvergenceWarning: Objective did not converge. You might want to increase the number of iterations, check the scale of the features or consider increasing regularisation. Duality gap: 2.075e+01, tolerance: 9.695e-03 Linear regression models with null weight for the l1 regularization term are more efficiently fitted using one of the solvers implemented in sklearn.linear_model.Ridge/RidgeCV instead.\n",
      "  model = cd_fast.enet_coordinate_descent(\n",
      "/Users/kimberly/opt/anaconda3/lib/python3.9/site-packages/sklearn/linear_model/_coordinate_descent.py:647: ConvergenceWarning: Objective did not converge. You might want to increase the number of iterations, check the scale of the features or consider increasing regularisation. Duality gap: 3.051e+01, tolerance: 1.379e-02 Linear regression models with null weight for the l1 regularization term are more efficiently fitted using one of the solvers implemented in sklearn.linear_model.Ridge/RidgeCV instead.\n",
      "  model = cd_fast.enet_coordinate_descent(\n",
      "/Users/kimberly/opt/anaconda3/lib/python3.9/site-packages/sklearn/linear_model/_coordinate_descent.py:647: ConvergenceWarning: Objective did not converge. You might want to increase the number of iterations, check the scale of the features or consider increasing regularisation. Duality gap: 4.009e+01, tolerance: 1.907e-02 Linear regression models with null weight for the l1 regularization term are more efficiently fitted using one of the solvers implemented in sklearn.linear_model.Ridge/RidgeCV instead.\n",
      "  model = cd_fast.enet_coordinate_descent(\n",
      "/Users/kimberly/opt/anaconda3/lib/python3.9/site-packages/sklearn/linear_model/_coordinate_descent.py:647: ConvergenceWarning: Objective did not converge. You might want to increase the number of iterations, check the scale of the features or consider increasing regularisation. Duality gap: 5.786e+00, tolerance: 2.662e-03 Linear regression models with null weight for the l1 regularization term are more efficiently fitted using one of the solvers implemented in sklearn.linear_model.Ridge/RidgeCV instead.\n",
      "  model = cd_fast.enet_coordinate_descent(\n",
      "/Users/kimberly/opt/anaconda3/lib/python3.9/site-packages/sklearn/linear_model/_coordinate_descent.py:647: ConvergenceWarning: Objective did not converge. You might want to increase the number of iterations, check the scale of the features or consider increasing regularisation. Duality gap: 1.254e+01, tolerance: 6.028e-03 Linear regression models with null weight for the l1 regularization term are more efficiently fitted using one of the solvers implemented in sklearn.linear_model.Ridge/RidgeCV instead.\n",
      "  model = cd_fast.enet_coordinate_descent(\n",
      "/Users/kimberly/opt/anaconda3/lib/python3.9/site-packages/sklearn/linear_model/_coordinate_descent.py:647: ConvergenceWarning: Objective did not converge. You might want to increase the number of iterations, check the scale of the features or consider increasing regularisation. Duality gap: 2.075e+01, tolerance: 9.695e-03 Linear regression models with null weight for the l1 regularization term are more efficiently fitted using one of the solvers implemented in sklearn.linear_model.Ridge/RidgeCV instead.\n",
      "  model = cd_fast.enet_coordinate_descent(\n",
      "/Users/kimberly/opt/anaconda3/lib/python3.9/site-packages/sklearn/linear_model/_coordinate_descent.py:647: ConvergenceWarning: Objective did not converge. You might want to increase the number of iterations, check the scale of the features or consider increasing regularisation. Duality gap: 3.051e+01, tolerance: 1.379e-02 Linear regression models with null weight for the l1 regularization term are more efficiently fitted using one of the solvers implemented in sklearn.linear_model.Ridge/RidgeCV instead.\n",
      "  model = cd_fast.enet_coordinate_descent(\n",
      "/Users/kimberly/opt/anaconda3/lib/python3.9/site-packages/sklearn/linear_model/_coordinate_descent.py:647: ConvergenceWarning: Objective did not converge. You might want to increase the number of iterations, check the scale of the features or consider increasing regularisation. Duality gap: 4.009e+01, tolerance: 1.907e-02 Linear regression models with null weight for the l1 regularization term are more efficiently fitted using one of the solvers implemented in sklearn.linear_model.Ridge/RidgeCV instead.\n",
      "  model = cd_fast.enet_coordinate_descent(\n",
      "/Users/kimberly/opt/anaconda3/lib/python3.9/site-packages/sklearn/linear_model/_coordinate_descent.py:647: ConvergenceWarning: Objective did not converge. You might want to increase the number of iterations, check the scale of the features or consider increasing regularisation. Duality gap: 5.786e+00, tolerance: 2.662e-03 Linear regression models with null weight for the l1 regularization term are more efficiently fitted using one of the solvers implemented in sklearn.linear_model.Ridge/RidgeCV instead.\n",
      "  model = cd_fast.enet_coordinate_descent(\n",
      "/Users/kimberly/opt/anaconda3/lib/python3.9/site-packages/sklearn/linear_model/_coordinate_descent.py:647: ConvergenceWarning: Objective did not converge. You might want to increase the number of iterations, check the scale of the features or consider increasing regularisation. Duality gap: 1.254e+01, tolerance: 6.028e-03 Linear regression models with null weight for the l1 regularization term are more efficiently fitted using one of the solvers implemented in sklearn.linear_model.Ridge/RidgeCV instead.\n",
      "  model = cd_fast.enet_coordinate_descent(\n",
      "/Users/kimberly/opt/anaconda3/lib/python3.9/site-packages/sklearn/linear_model/_coordinate_descent.py:647: ConvergenceWarning: Objective did not converge. You might want to increase the number of iterations, check the scale of the features or consider increasing regularisation. Duality gap: 2.075e+01, tolerance: 9.695e-03 Linear regression models with null weight for the l1 regularization term are more efficiently fitted using one of the solvers implemented in sklearn.linear_model.Ridge/RidgeCV instead.\n",
      "  model = cd_fast.enet_coordinate_descent(\n",
      "/Users/kimberly/opt/anaconda3/lib/python3.9/site-packages/sklearn/linear_model/_coordinate_descent.py:647: ConvergenceWarning: Objective did not converge. You might want to increase the number of iterations, check the scale of the features or consider increasing regularisation. Duality gap: 3.051e+01, tolerance: 1.379e-02 Linear regression models with null weight for the l1 regularization term are more efficiently fitted using one of the solvers implemented in sklearn.linear_model.Ridge/RidgeCV instead.\n",
      "  model = cd_fast.enet_coordinate_descent(\n",
      "/Users/kimberly/opt/anaconda3/lib/python3.9/site-packages/sklearn/linear_model/_coordinate_descent.py:647: ConvergenceWarning: Objective did not converge. You might want to increase the number of iterations, check the scale of the features or consider increasing regularisation. Duality gap: 4.009e+01, tolerance: 1.907e-02 Linear regression models with null weight for the l1 regularization term are more efficiently fitted using one of the solvers implemented in sklearn.linear_model.Ridge/RidgeCV instead.\n",
      "  model = cd_fast.enet_coordinate_descent(\n"
     ]
    },
    {
     "name": "stderr",
     "output_type": "stream",
     "text": [
      "/Users/kimberly/opt/anaconda3/lib/python3.9/site-packages/sklearn/linear_model/_coordinate_descent.py:647: ConvergenceWarning: Objective did not converge. You might want to increase the number of iterations, check the scale of the features or consider increasing regularisation. Duality gap: 5.786e+00, tolerance: 2.662e-03 Linear regression models with null weight for the l1 regularization term are more efficiently fitted using one of the solvers implemented in sklearn.linear_model.Ridge/RidgeCV instead.\n",
      "  model = cd_fast.enet_coordinate_descent(\n",
      "/Users/kimberly/opt/anaconda3/lib/python3.9/site-packages/sklearn/linear_model/_coordinate_descent.py:647: ConvergenceWarning: Objective did not converge. You might want to increase the number of iterations, check the scale of the features or consider increasing regularisation. Duality gap: 1.254e+01, tolerance: 6.028e-03 Linear regression models with null weight for the l1 regularization term are more efficiently fitted using one of the solvers implemented in sklearn.linear_model.Ridge/RidgeCV instead.\n",
      "  model = cd_fast.enet_coordinate_descent(\n",
      "/Users/kimberly/opt/anaconda3/lib/python3.9/site-packages/sklearn/linear_model/_coordinate_descent.py:647: ConvergenceWarning: Objective did not converge. You might want to increase the number of iterations, check the scale of the features or consider increasing regularisation. Duality gap: 2.075e+01, tolerance: 9.695e-03 Linear regression models with null weight for the l1 regularization term are more efficiently fitted using one of the solvers implemented in sklearn.linear_model.Ridge/RidgeCV instead.\n",
      "  model = cd_fast.enet_coordinate_descent(\n",
      "/Users/kimberly/opt/anaconda3/lib/python3.9/site-packages/sklearn/linear_model/_coordinate_descent.py:647: ConvergenceWarning: Objective did not converge. You might want to increase the number of iterations, check the scale of the features or consider increasing regularisation. Duality gap: 3.051e+01, tolerance: 1.379e-02 Linear regression models with null weight for the l1 regularization term are more efficiently fitted using one of the solvers implemented in sklearn.linear_model.Ridge/RidgeCV instead.\n",
      "  model = cd_fast.enet_coordinate_descent(\n",
      "/Users/kimberly/opt/anaconda3/lib/python3.9/site-packages/sklearn/linear_model/_coordinate_descent.py:647: ConvergenceWarning: Objective did not converge. You might want to increase the number of iterations, check the scale of the features or consider increasing regularisation. Duality gap: 4.009e+01, tolerance: 1.907e-02 Linear regression models with null weight for the l1 regularization term are more efficiently fitted using one of the solvers implemented in sklearn.linear_model.Ridge/RidgeCV instead.\n",
      "  model = cd_fast.enet_coordinate_descent(\n",
      "/Users/kimberly/opt/anaconda3/lib/python3.9/site-packages/sklearn/linear_model/_coordinate_descent.py:647: ConvergenceWarning: Objective did not converge. You might want to increase the number of iterations, check the scale of the features or consider increasing regularisation. Duality gap: 5.786e+00, tolerance: 2.662e-03 Linear regression models with null weight for the l1 regularization term are more efficiently fitted using one of the solvers implemented in sklearn.linear_model.Ridge/RidgeCV instead.\n",
      "  model = cd_fast.enet_coordinate_descent(\n",
      "/Users/kimberly/opt/anaconda3/lib/python3.9/site-packages/sklearn/linear_model/_coordinate_descent.py:647: ConvergenceWarning: Objective did not converge. You might want to increase the number of iterations, check the scale of the features or consider increasing regularisation. Duality gap: 1.254e+01, tolerance: 6.028e-03 Linear regression models with null weight for the l1 regularization term are more efficiently fitted using one of the solvers implemented in sklearn.linear_model.Ridge/RidgeCV instead.\n",
      "  model = cd_fast.enet_coordinate_descent(\n",
      "/Users/kimberly/opt/anaconda3/lib/python3.9/site-packages/sklearn/linear_model/_coordinate_descent.py:647: ConvergenceWarning: Objective did not converge. You might want to increase the number of iterations, check the scale of the features or consider increasing regularisation. Duality gap: 2.075e+01, tolerance: 9.695e-03 Linear regression models with null weight for the l1 regularization term are more efficiently fitted using one of the solvers implemented in sklearn.linear_model.Ridge/RidgeCV instead.\n",
      "  model = cd_fast.enet_coordinate_descent(\n",
      "/Users/kimberly/opt/anaconda3/lib/python3.9/site-packages/sklearn/linear_model/_coordinate_descent.py:647: ConvergenceWarning: Objective did not converge. You might want to increase the number of iterations, check the scale of the features or consider increasing regularisation. Duality gap: 3.051e+01, tolerance: 1.379e-02 Linear regression models with null weight for the l1 regularization term are more efficiently fitted using one of the solvers implemented in sklearn.linear_model.Ridge/RidgeCV instead.\n",
      "  model = cd_fast.enet_coordinate_descent(\n",
      "/Users/kimberly/opt/anaconda3/lib/python3.9/site-packages/sklearn/linear_model/_coordinate_descent.py:647: ConvergenceWarning: Objective did not converge. You might want to increase the number of iterations, check the scale of the features or consider increasing regularisation. Duality gap: 4.009e+01, tolerance: 1.907e-02 Linear regression models with null weight for the l1 regularization term are more efficiently fitted using one of the solvers implemented in sklearn.linear_model.Ridge/RidgeCV instead.\n",
      "  model = cd_fast.enet_coordinate_descent(\n",
      "/Users/kimberly/opt/anaconda3/lib/python3.9/site-packages/sklearn/linear_model/_coordinate_descent.py:647: ConvergenceWarning: Objective did not converge. You might want to increase the number of iterations, check the scale of the features or consider increasing regularisation. Duality gap: 5.786e+00, tolerance: 2.662e-03 Linear regression models with null weight for the l1 regularization term are more efficiently fitted using one of the solvers implemented in sklearn.linear_model.Ridge/RidgeCV instead.\n",
      "  model = cd_fast.enet_coordinate_descent(\n",
      "/Users/kimberly/opt/anaconda3/lib/python3.9/site-packages/sklearn/linear_model/_coordinate_descent.py:647: ConvergenceWarning: Objective did not converge. You might want to increase the number of iterations, check the scale of the features or consider increasing regularisation. Duality gap: 1.254e+01, tolerance: 6.028e-03 Linear regression models with null weight for the l1 regularization term are more efficiently fitted using one of the solvers implemented in sklearn.linear_model.Ridge/RidgeCV instead.\n",
      "  model = cd_fast.enet_coordinate_descent(\n",
      "/Users/kimberly/opt/anaconda3/lib/python3.9/site-packages/sklearn/linear_model/_coordinate_descent.py:647: ConvergenceWarning: Objective did not converge. You might want to increase the number of iterations, check the scale of the features or consider increasing regularisation. Duality gap: 2.075e+01, tolerance: 9.695e-03 Linear regression models with null weight for the l1 regularization term are more efficiently fitted using one of the solvers implemented in sklearn.linear_model.Ridge/RidgeCV instead.\n",
      "  model = cd_fast.enet_coordinate_descent(\n",
      "/Users/kimberly/opt/anaconda3/lib/python3.9/site-packages/sklearn/linear_model/_coordinate_descent.py:647: ConvergenceWarning: Objective did not converge. You might want to increase the number of iterations, check the scale of the features or consider increasing regularisation. Duality gap: 3.052e+01, tolerance: 1.379e-02 Linear regression models with null weight for the l1 regularization term are more efficiently fitted using one of the solvers implemented in sklearn.linear_model.Ridge/RidgeCV instead.\n",
      "  model = cd_fast.enet_coordinate_descent(\n",
      "/Users/kimberly/opt/anaconda3/lib/python3.9/site-packages/sklearn/linear_model/_coordinate_descent.py:647: ConvergenceWarning: Objective did not converge. You might want to increase the number of iterations, check the scale of the features or consider increasing regularisation. Duality gap: 4.010e+01, tolerance: 1.907e-02 Linear regression models with null weight for the l1 regularization term are more efficiently fitted using one of the solvers implemented in sklearn.linear_model.Ridge/RidgeCV instead.\n",
      "  model = cd_fast.enet_coordinate_descent(\n"
     ]
    },
    {
     "name": "stderr",
     "output_type": "stream",
     "text": [
      "/Users/kimberly/opt/anaconda3/lib/python3.9/site-packages/sklearn/linear_model/_coordinate_descent.py:647: ConvergenceWarning: Objective did not converge. You might want to increase the number of iterations, check the scale of the features or consider increasing regularisation. Duality gap: 5.810e+00, tolerance: 2.662e-03 Linear regression models with null weight for the l1 regularization term are more efficiently fitted using one of the solvers implemented in sklearn.linear_model.Ridge/RidgeCV instead.\n",
      "  model = cd_fast.enet_coordinate_descent(\n",
      "/Users/kimberly/opt/anaconda3/lib/python3.9/site-packages/sklearn/linear_model/_coordinate_descent.py:647: ConvergenceWarning: Objective did not converge. You might want to increase the number of iterations, check the scale of the features or consider increasing regularisation. Duality gap: 1.259e+01, tolerance: 6.028e-03 Linear regression models with null weight for the l1 regularization term are more efficiently fitted using one of the solvers implemented in sklearn.linear_model.Ridge/RidgeCV instead.\n",
      "  model = cd_fast.enet_coordinate_descent(\n",
      "/Users/kimberly/opt/anaconda3/lib/python3.9/site-packages/sklearn/linear_model/_coordinate_descent.py:647: ConvergenceWarning: Objective did not converge. You might want to increase the number of iterations, check the scale of the features or consider increasing regularisation. Duality gap: 2.085e+01, tolerance: 9.695e-03 Linear regression models with null weight for the l1 regularization term are more efficiently fitted using one of the solvers implemented in sklearn.linear_model.Ridge/RidgeCV instead.\n",
      "  model = cd_fast.enet_coordinate_descent(\n",
      "/Users/kimberly/opt/anaconda3/lib/python3.9/site-packages/sklearn/linear_model/_coordinate_descent.py:647: ConvergenceWarning: Objective did not converge. You might want to increase the number of iterations, check the scale of the features or consider increasing regularisation. Duality gap: 3.067e+01, tolerance: 1.379e-02 Linear regression models with null weight for the l1 regularization term are more efficiently fitted using one of the solvers implemented in sklearn.linear_model.Ridge/RidgeCV instead.\n",
      "  model = cd_fast.enet_coordinate_descent(\n",
      "/Users/kimberly/opt/anaconda3/lib/python3.9/site-packages/sklearn/linear_model/_coordinate_descent.py:647: ConvergenceWarning: Objective did not converge. You might want to increase the number of iterations, check the scale of the features or consider increasing regularisation. Duality gap: 4.039e+01, tolerance: 1.907e-02 Linear regression models with null weight for the l1 regularization term are more efficiently fitted using one of the solvers implemented in sklearn.linear_model.Ridge/RidgeCV instead.\n",
      "  model = cd_fast.enet_coordinate_descent(\n",
      "/Users/kimberly/opt/anaconda3/lib/python3.9/site-packages/sklearn/linear_model/_coordinate_descent.py:647: ConvergenceWarning: Objective did not converge. You might want to increase the number of iterations, check the scale of the features or consider increasing regularisation. Duality gap: 6.249e+00, tolerance: 2.662e-03 Linear regression models with null weight for the l1 regularization term are more efficiently fitted using one of the solvers implemented in sklearn.linear_model.Ridge/RidgeCV instead.\n",
      "  model = cd_fast.enet_coordinate_descent(\n",
      "/Users/kimberly/opt/anaconda3/lib/python3.9/site-packages/sklearn/linear_model/_coordinate_descent.py:647: ConvergenceWarning: Objective did not converge. You might want to increase the number of iterations, check the scale of the features or consider increasing regularisation. Duality gap: 1.347e+01, tolerance: 6.028e-03 Linear regression models with null weight for the l1 regularization term are more efficiently fitted using one of the solvers implemented in sklearn.linear_model.Ridge/RidgeCV instead.\n",
      "  model = cd_fast.enet_coordinate_descent(\n",
      "/Users/kimberly/opt/anaconda3/lib/python3.9/site-packages/sklearn/linear_model/_coordinate_descent.py:647: ConvergenceWarning: Objective did not converge. You might want to increase the number of iterations, check the scale of the features or consider increasing regularisation. Duality gap: 2.241e+01, tolerance: 9.695e-03 Linear regression models with null weight for the l1 regularization term are more efficiently fitted using one of the solvers implemented in sklearn.linear_model.Ridge/RidgeCV instead.\n",
      "  model = cd_fast.enet_coordinate_descent(\n",
      "/Users/kimberly/opt/anaconda3/lib/python3.9/site-packages/sklearn/linear_model/_coordinate_descent.py:647: ConvergenceWarning: Objective did not converge. You might want to increase the number of iterations, check the scale of the features or consider increasing regularisation. Duality gap: 3.283e+01, tolerance: 1.379e-02 Linear regression models with null weight for the l1 regularization term are more efficiently fitted using one of the solvers implemented in sklearn.linear_model.Ridge/RidgeCV instead.\n",
      "  model = cd_fast.enet_coordinate_descent(\n",
      "/Users/kimberly/opt/anaconda3/lib/python3.9/site-packages/sklearn/linear_model/_coordinate_descent.py:647: ConvergenceWarning: Objective did not converge. You might want to increase the number of iterations, check the scale of the features or consider increasing regularisation. Duality gap: 4.350e+01, tolerance: 1.907e-02 Linear regression models with null weight for the l1 regularization term are more efficiently fitted using one of the solvers implemented in sklearn.linear_model.Ridge/RidgeCV instead.\n",
      "  model = cd_fast.enet_coordinate_descent(\n",
      "/Users/kimberly/opt/anaconda3/lib/python3.9/site-packages/sklearn/linear_model/_coordinate_descent.py:647: ConvergenceWarning: Objective did not converge. You might want to increase the number of iterations, check the scale of the features or consider increasing regularisation. Duality gap: 9.819e+00, tolerance: 2.662e-03 Linear regression models with null weight for the l1 regularization term are more efficiently fitted using one of the solvers implemented in sklearn.linear_model.Ridge/RidgeCV instead.\n",
      "  model = cd_fast.enet_coordinate_descent(\n",
      "/Users/kimberly/opt/anaconda3/lib/python3.9/site-packages/sklearn/linear_model/_coordinate_descent.py:647: ConvergenceWarning: Objective did not converge. You might want to increase the number of iterations, check the scale of the features or consider increasing regularisation. Duality gap: 2.146e+01, tolerance: 6.028e-03 Linear regression models with null weight for the l1 regularization term are more efficiently fitted using one of the solvers implemented in sklearn.linear_model.Ridge/RidgeCV instead.\n",
      "  model = cd_fast.enet_coordinate_descent(\n",
      "/Users/kimberly/opt/anaconda3/lib/python3.9/site-packages/sklearn/linear_model/_coordinate_descent.py:647: ConvergenceWarning: Objective did not converge. You might want to increase the number of iterations, check the scale of the features or consider increasing regularisation. Duality gap: 3.505e+01, tolerance: 9.695e-03 Linear regression models with null weight for the l1 regularization term are more efficiently fitted using one of the solvers implemented in sklearn.linear_model.Ridge/RidgeCV instead.\n",
      "  model = cd_fast.enet_coordinate_descent(\n",
      "/Users/kimberly/opt/anaconda3/lib/python3.9/site-packages/sklearn/linear_model/_coordinate_descent.py:647: ConvergenceWarning: Objective did not converge. You might want to increase the number of iterations, check the scale of the features or consider increasing regularisation. Duality gap: 5.022e+01, tolerance: 1.379e-02 Linear regression models with null weight for the l1 regularization term are more efficiently fitted using one of the solvers implemented in sklearn.linear_model.Ridge/RidgeCV instead.\n",
      "  model = cd_fast.enet_coordinate_descent(\n",
      "/Users/kimberly/opt/anaconda3/lib/python3.9/site-packages/sklearn/linear_model/_coordinate_descent.py:647: ConvergenceWarning: Objective did not converge. You might want to increase the number of iterations, check the scale of the features or consider increasing regularisation. Duality gap: 6.842e+01, tolerance: 1.907e-02 Linear regression models with null weight for the l1 regularization term are more efficiently fitted using one of the solvers implemented in sklearn.linear_model.Ridge/RidgeCV instead.\n",
      "  model = cd_fast.enet_coordinate_descent(\n"
     ]
    },
    {
     "name": "stderr",
     "output_type": "stream",
     "text": [
      "/Users/kimberly/opt/anaconda3/lib/python3.9/site-packages/sklearn/linear_model/_coordinate_descent.py:647: ConvergenceWarning: Objective did not converge. You might want to increase the number of iterations, check the scale of the features or consider increasing regularisation. Duality gap: 1.310e+01, tolerance: 2.662e-03 Linear regression models with null weight for the l1 regularization term are more efficiently fitted using one of the solvers implemented in sklearn.linear_model.Ridge/RidgeCV instead.\n",
      "  model = cd_fast.enet_coordinate_descent(\n",
      "/Users/kimberly/opt/anaconda3/lib/python3.9/site-packages/sklearn/linear_model/_coordinate_descent.py:647: ConvergenceWarning: Objective did not converge. You might want to increase the number of iterations, check the scale of the features or consider increasing regularisation. Duality gap: 2.960e+01, tolerance: 6.028e-03 Linear regression models with null weight for the l1 regularization term are more efficiently fitted using one of the solvers implemented in sklearn.linear_model.Ridge/RidgeCV instead.\n",
      "  model = cd_fast.enet_coordinate_descent(\n",
      "/Users/kimberly/opt/anaconda3/lib/python3.9/site-packages/sklearn/linear_model/_coordinate_descent.py:647: ConvergenceWarning: Objective did not converge. You might want to increase the number of iterations, check the scale of the features or consider increasing regularisation. Duality gap: 4.764e+01, tolerance: 9.695e-03 Linear regression models with null weight for the l1 regularization term are more efficiently fitted using one of the solvers implemented in sklearn.linear_model.Ridge/RidgeCV instead.\n",
      "  model = cd_fast.enet_coordinate_descent(\n",
      "/Users/kimberly/opt/anaconda3/lib/python3.9/site-packages/sklearn/linear_model/_coordinate_descent.py:647: ConvergenceWarning: Objective did not converge. You might want to increase the number of iterations, check the scale of the features or consider increasing regularisation. Duality gap: 6.782e+01, tolerance: 1.379e-02 Linear regression models with null weight for the l1 regularization term are more efficiently fitted using one of the solvers implemented in sklearn.linear_model.Ridge/RidgeCV instead.\n",
      "  model = cd_fast.enet_coordinate_descent(\n",
      "/Users/kimberly/opt/anaconda3/lib/python3.9/site-packages/sklearn/linear_model/_coordinate_descent.py:647: ConvergenceWarning: Objective did not converge. You might want to increase the number of iterations, check the scale of the features or consider increasing regularisation. Duality gap: 9.372e+01, tolerance: 1.907e-02 Linear regression models with null weight for the l1 regularization term are more efficiently fitted using one of the solvers implemented in sklearn.linear_model.Ridge/RidgeCV instead.\n",
      "  model = cd_fast.enet_coordinate_descent(\n"
     ]
    },
    {
     "name": "stdout",
     "output_type": "stream",
     "text": [
      "Execution time:  14.659173011779785 seconds\n"
     ]
    },
    {
     "name": "stderr",
     "output_type": "stream",
     "text": [
      "/Users/kimberly/opt/anaconda3/lib/python3.9/site-packages/sklearn/linear_model/_coordinate_descent.py:647: ConvergenceWarning: Objective did not converge. You might want to increase the number of iterations, check the scale of the features or consider increasing regularisation. Duality gap: 4.890e+01, tolerance: 2.278e-02 Linear regression models with null weight for the l1 regularization term are more efficiently fitted using one of the solvers implemented in sklearn.linear_model.Ridge/RidgeCV instead.\n",
      "  model = cd_fast.enet_coordinate_descent(\n"
     ]
    }
   ],
   "source": [
    "tic = time.time()\n",
    "enet_search.fit(X_other,y_other)\n",
    "toc = time.time()\n",
    "print('Execution time: ',toc -tic,'seconds')"
   ]
  },
  {
   "cell_type": "code",
   "execution_count": 82,
   "id": "56f10abe",
   "metadata": {},
   "outputs": [
    {
     "data": {
      "text/plain": [
       "0.5562909699696534"
      ]
     },
     "execution_count": 82,
     "metadata": {},
     "output_type": "execute_result"
    }
   ],
   "source": [
    "r2_cv_enet = enet_search.best_score_\n",
    "r2_cv_enet"
   ]
  },
  {
   "cell_type": "code",
   "execution_count": 20,
   "id": "3a42eb25",
   "metadata": {},
   "outputs": [
    {
     "data": {
      "text/plain": [
       "0.5707150392146101"
      ]
     },
     "execution_count": 20,
     "metadata": {},
     "output_type": "execute_result"
    }
   ],
   "source": [
    "r2_train_enet = r2_score(y_other,enet_search.best_estimator_.predict(X_other))\n",
    "r2_train_enet"
   ]
  },
  {
   "cell_type": "markdown",
   "id": "457ef248",
   "metadata": {},
   "source": [
    "### THE CV R^2 is 0.55629, and the training R^2 is 0.570715"
   ]
  },
  {
   "cell_type": "code",
   "execution_count": 21,
   "id": "9a0db19e",
   "metadata": {
    "scrolled": true
   },
   "outputs": [
    {
     "data": {
      "text/plain": [
       "0.41289129385640577"
      ]
     },
     "execution_count": 21,
     "metadata": {},
     "output_type": "execute_result"
    }
   ],
   "source": [
    "r2_test_enet = r2_score(y_test,enet_search.best_estimator_.predict(X_test))\n",
    "r2_test_enet"
   ]
  },
  {
   "cell_type": "code",
   "execution_count": null,
   "id": "dc83a62c",
   "metadata": {},
   "outputs": [],
   "source": []
  },
  {
   "cell_type": "markdown",
   "id": "b02bdde2",
   "metadata": {},
   "source": [
    "### MLP"
   ]
  },
  {
   "cell_type": "code",
   "execution_count": 22,
   "id": "f0e614e3",
   "metadata": {},
   "outputs": [],
   "source": [
    "from sklearn.neural_network import MLPRegressor\n",
    "\n",
    "mlp_mod = MLPRegressor(\n",
    "  hidden_layer_sizes = (8, 4),\n",
    "  activation = 'relu',\n",
    "  solver = 'adam',\n",
    "  batch_size = 16,\n",
    "  random_state = 425\n",
    "  )"
   ]
  },
  {
   "cell_type": "code",
   "execution_count": 23,
   "id": "a5a15d44",
   "metadata": {},
   "outputs": [
    {
     "data": {
      "text/plain": [
       "Pipeline(steps=[('model',\n",
       "                 MLPRegressor(batch_size=16, hidden_layer_sizes=(8, 4),\n",
       "                              random_state=425))])"
      ]
     },
     "execution_count": 23,
     "metadata": {},
     "output_type": "execute_result"
    }
   ],
   "source": [
    "from sklearn.pipeline import Pipeline\n",
    "\n",
    "mlp_pipe = Pipeline(steps = [\n",
    "  (\"model\", mlp_mod)\n",
    "  ])\n",
    "mlp_pipe"
   ]
  },
  {
   "cell_type": "code",
   "execution_count": 24,
   "id": "e289a50a",
   "metadata": {},
   "outputs": [
    {
     "data": {
      "text/plain": [
       "{'model__hidden_layer_sizes': [4, 8, 12, (4, 2), (8, 4), (12, 6)],\n",
       " 'model__batch_size': [4, 8, 12, 16, 20, 24, 28, 32]}"
      ]
     },
     "execution_count": 24,
     "metadata": {},
     "output_type": "execute_result"
    }
   ],
   "source": [
    "# Tune hyper-parameter(s)\n",
    "hls_grid = [(4), (8), (12), (4, 2), (8, 4), (12, 6)] # hidden layer size\n",
    "bs_grid = [4, 8, 12, 16, 20, 24, 28, 32] # batch sizes\n",
    "mlp_tuned_parameters = {\n",
    "  \"model__hidden_layer_sizes\": hls_grid,\n",
    "  \"model__batch_size\": bs_grid\n",
    "  }\n",
    "mlp_tuned_parameters "
   ]
  },
  {
   "cell_type": "code",
   "execution_count": 25,
   "id": "7a268941",
   "metadata": {},
   "outputs": [],
   "source": [
    "from sklearn.model_selection import GridSearchCV\n",
    "\n",
    "# Set up CV\n",
    "mlp_search = GridSearchCV(\n",
    "  mlp_pipe, \n",
    "  mlp_tuned_parameters, \n",
    "  cv = TimeSeriesSplit(5), \n",
    "  scoring = \"r2\",\n",
    "  error_score = 'raise',\n",
    "  # Refit the best model on the whole data set\n",
    "  refit = True \n",
    "  )"
   ]
  },
  {
   "cell_type": "code",
   "execution_count": 26,
   "id": "85f5207a",
   "metadata": {},
   "outputs": [
    {
     "data": {
      "text/plain": [
       "GridSearchCV(cv=TimeSeriesSplit(gap=0, max_train_size=None, n_splits=5, test_size=None),\n",
       "             error_score='raise',\n",
       "             estimator=Pipeline(steps=[('model',\n",
       "                                        MLPRegressor(batch_size=16,\n",
       "                                                     hidden_layer_sizes=(8, 4),\n",
       "                                                     random_state=425))]),\n",
       "             param_grid={'model__batch_size': [4, 8, 12, 16, 20, 24, 28, 32],\n",
       "                         'model__hidden_layer_sizes': [4, 8, 12, (4, 2), (8, 4),\n",
       "                                                       (12, 6)]},\n",
       "             scoring='r2')"
      ]
     },
     "execution_count": 26,
     "metadata": {},
     "output_type": "execute_result"
    }
   ],
   "source": [
    "# Fit CV\n",
    "mlp_search.fit(X_other, y_other)"
   ]
  },
  {
   "cell_type": "code",
   "execution_count": 27,
   "id": "8cabdf6b",
   "metadata": {},
   "outputs": [
    {
     "data": {
      "text/plain": [
       "0.5298718970687661"
      ]
     },
     "execution_count": 27,
     "metadata": {},
     "output_type": "execute_result"
    }
   ],
   "source": [
    "r2_cv_mlp = mlp_search.best_score_\n",
    "r2_cv_mlp"
   ]
  },
  {
   "cell_type": "code",
   "execution_count": 28,
   "id": "f8eb5e2b",
   "metadata": {},
   "outputs": [
    {
     "data": {
      "text/plain": [
       "0.5358351758182354"
      ]
     },
     "execution_count": 28,
     "metadata": {},
     "output_type": "execute_result"
    }
   ],
   "source": [
    "r2_train_mlp = r2_score(y_other,mlp_search.best_estimator_.predict(X_other))\n",
    "r2_train_mlp"
   ]
  },
  {
   "cell_type": "code",
   "execution_count": 29,
   "id": "d07d8e0b",
   "metadata": {},
   "outputs": [
    {
     "data": {
      "text/plain": [
       "0.3715929437370552"
      ]
     },
     "execution_count": 29,
     "metadata": {},
     "output_type": "execute_result"
    }
   ],
   "source": [
    "r2_test_mlp = r2_score(\n",
    "    y_test,\n",
    "    mlp_search.best_estimator_.predict(X_test)\n",
    ")\n",
    "r2_test_mlp"
   ]
  },
  {
   "cell_type": "code",
   "execution_count": 30,
   "id": "3b965d3c",
   "metadata": {
    "scrolled": true
   },
   "outputs": [
    {
     "name": "stdout",
     "output_type": "stream",
     "text": [
      "Requirement already satisfied: tensorflow in /Users/kimberly/opt/anaconda3/lib/python3.9/site-packages (2.11.0)\n",
      "Requirement already satisfied: google-pasta>=0.1.1 in /Users/kimberly/opt/anaconda3/lib/python3.9/site-packages (from tensorflow) (0.2.0)\n",
      "Requirement already satisfied: setuptools in /Users/kimberly/opt/anaconda3/lib/python3.9/site-packages (from tensorflow) (61.2.0)\n",
      "Requirement already satisfied: tensorboard<2.12,>=2.11 in /Users/kimberly/opt/anaconda3/lib/python3.9/site-packages (from tensorflow) (2.11.2)\n",
      "Requirement already satisfied: libclang>=13.0.0 in /Users/kimberly/opt/anaconda3/lib/python3.9/site-packages (from tensorflow) (15.0.6.1)\n",
      "Requirement already satisfied: opt-einsum>=2.3.2 in /Users/kimberly/opt/anaconda3/lib/python3.9/site-packages (from tensorflow) (3.3.0)\n",
      "Requirement already satisfied: absl-py>=1.0.0 in /Users/kimberly/opt/anaconda3/lib/python3.9/site-packages (from tensorflow) (1.4.0)\n",
      "Requirement already satisfied: packaging in /Users/kimberly/opt/anaconda3/lib/python3.9/site-packages (from tensorflow) (21.3)\n",
      "Requirement already satisfied: gast<=0.4.0,>=0.2.1 in /Users/kimberly/opt/anaconda3/lib/python3.9/site-packages (from tensorflow) (0.4.0)\n",
      "Requirement already satisfied: numpy>=1.20 in /Users/kimberly/opt/anaconda3/lib/python3.9/site-packages (from tensorflow) (1.21.5)\n",
      "Requirement already satisfied: tensorflow-estimator<2.12,>=2.11.0 in /Users/kimberly/opt/anaconda3/lib/python3.9/site-packages (from tensorflow) (2.11.0)\n",
      "Requirement already satisfied: grpcio<2.0,>=1.24.3 in /Users/kimberly/opt/anaconda3/lib/python3.9/site-packages (from tensorflow) (1.42.0)\n",
      "Requirement already satisfied: astunparse>=1.6.0 in /Users/kimberly/opt/anaconda3/lib/python3.9/site-packages (from tensorflow) (1.6.3)\n",
      "Requirement already satisfied: wrapt>=1.11.0 in /Users/kimberly/opt/anaconda3/lib/python3.9/site-packages (from tensorflow) (1.12.1)\n",
      "Requirement already satisfied: flatbuffers>=2.0 in /Users/kimberly/opt/anaconda3/lib/python3.9/site-packages (from tensorflow) (23.3.3)\n",
      "Requirement already satisfied: six>=1.12.0 in /Users/kimberly/opt/anaconda3/lib/python3.9/site-packages (from tensorflow) (1.16.0)\n",
      "Requirement already satisfied: h5py>=2.9.0 in /Users/kimberly/opt/anaconda3/lib/python3.9/site-packages (from tensorflow) (3.6.0)\n",
      "Requirement already satisfied: keras<2.12,>=2.11.0 in /Users/kimberly/opt/anaconda3/lib/python3.9/site-packages (from tensorflow) (2.11.0)\n",
      "Requirement already satisfied: typing-extensions>=3.6.6 in /Users/kimberly/opt/anaconda3/lib/python3.9/site-packages (from tensorflow) (4.1.1)\n",
      "Requirement already satisfied: termcolor>=1.1.0 in /Users/kimberly/opt/anaconda3/lib/python3.9/site-packages (from tensorflow) (2.2.0)\n",
      "Requirement already satisfied: tensorflow-io-gcs-filesystem>=0.23.1 in /Users/kimberly/opt/anaconda3/lib/python3.9/site-packages (from tensorflow) (0.31.0)\n",
      "Requirement already satisfied: protobuf<3.20,>=3.9.2 in /Users/kimberly/opt/anaconda3/lib/python3.9/site-packages (from tensorflow) (3.19.1)\n",
      "Requirement already satisfied: wheel<1.0,>=0.23.0 in /Users/kimberly/opt/anaconda3/lib/python3.9/site-packages (from astunparse>=1.6.0->tensorflow) (0.37.1)\n",
      "Requirement already satisfied: markdown>=2.6.8 in /Users/kimberly/opt/anaconda3/lib/python3.9/site-packages (from tensorboard<2.12,>=2.11->tensorflow) (3.3.4)\n",
      "Requirement already satisfied: tensorboard-data-server<0.7.0,>=0.6.0 in /Users/kimberly/opt/anaconda3/lib/python3.9/site-packages (from tensorboard<2.12,>=2.11->tensorflow) (0.6.1)\n",
      "Requirement already satisfied: werkzeug>=1.0.1 in /Users/kimberly/opt/anaconda3/lib/python3.9/site-packages (from tensorboard<2.12,>=2.11->tensorflow) (2.0.3)\n",
      "Requirement already satisfied: google-auth-oauthlib<0.5,>=0.4.1 in /Users/kimberly/opt/anaconda3/lib/python3.9/site-packages (from tensorboard<2.12,>=2.11->tensorflow) (0.4.6)\n",
      "Requirement already satisfied: tensorboard-plugin-wit>=1.6.0 in /Users/kimberly/opt/anaconda3/lib/python3.9/site-packages (from tensorboard<2.12,>=2.11->tensorflow) (1.8.1)\n",
      "Requirement already satisfied: google-auth<3,>=1.6.3 in /Users/kimberly/opt/anaconda3/lib/python3.9/site-packages (from tensorboard<2.12,>=2.11->tensorflow) (1.33.0)\n",
      "Requirement already satisfied: requests<3,>=2.21.0 in /Users/kimberly/opt/anaconda3/lib/python3.9/site-packages (from tensorboard<2.12,>=2.11->tensorflow) (2.27.1)\n",
      "Requirement already satisfied: rsa<5,>=3.1.4 in /Users/kimberly/opt/anaconda3/lib/python3.9/site-packages (from google-auth<3,>=1.6.3->tensorboard<2.12,>=2.11->tensorflow) (4.7.2)\n",
      "Requirement already satisfied: pyasn1-modules>=0.2.1 in /Users/kimberly/opt/anaconda3/lib/python3.9/site-packages (from google-auth<3,>=1.6.3->tensorboard<2.12,>=2.11->tensorflow) (0.2.8)\n",
      "Requirement already satisfied: cachetools<5.0,>=2.0.0 in /Users/kimberly/opt/anaconda3/lib/python3.9/site-packages (from google-auth<3,>=1.6.3->tensorboard<2.12,>=2.11->tensorflow) (4.2.2)\n",
      "Requirement already satisfied: requests-oauthlib>=0.7.0 in /Users/kimberly/opt/anaconda3/lib/python3.9/site-packages (from google-auth-oauthlib<0.5,>=0.4.1->tensorboard<2.12,>=2.11->tensorflow) (1.3.1)\n",
      "Requirement already satisfied: pyasn1<0.5.0,>=0.4.6 in /Users/kimberly/opt/anaconda3/lib/python3.9/site-packages (from pyasn1-modules>=0.2.1->google-auth<3,>=1.6.3->tensorboard<2.12,>=2.11->tensorflow) (0.4.8)\n",
      "Requirement already satisfied: charset-normalizer~=2.0.0 in /Users/kimberly/opt/anaconda3/lib/python3.9/site-packages (from requests<3,>=2.21.0->tensorboard<2.12,>=2.11->tensorflow) (2.0.4)\n",
      "Requirement already satisfied: certifi>=2017.4.17 in /Users/kimberly/opt/anaconda3/lib/python3.9/site-packages (from requests<3,>=2.21.0->tensorboard<2.12,>=2.11->tensorflow) (2021.10.8)\n",
      "Requirement already satisfied: urllib3<1.27,>=1.21.1 in /Users/kimberly/opt/anaconda3/lib/python3.9/site-packages (from requests<3,>=2.21.0->tensorboard<2.12,>=2.11->tensorflow) (1.26.9)\n",
      "Requirement already satisfied: idna<4,>=2.5 in /Users/kimberly/opt/anaconda3/lib/python3.9/site-packages (from requests<3,>=2.21.0->tensorboard<2.12,>=2.11->tensorflow) (3.3)\n",
      "Requirement already satisfied: oauthlib>=3.0.0 in /Users/kimberly/opt/anaconda3/lib/python3.9/site-packages (from requests-oauthlib>=0.7.0->google-auth-oauthlib<0.5,>=0.4.1->tensorboard<2.12,>=2.11->tensorflow) (3.2.2)\n",
      "Requirement already satisfied: pyparsing!=3.0.5,>=2.0.2 in /Users/kimberly/opt/anaconda3/lib/python3.9/site-packages (from packaging->tensorflow) (3.0.4)\n"
     ]
    }
   ],
   "source": [
    "!pip install tensorflow"
   ]
  },
  {
   "cell_type": "code",
   "execution_count": 31,
   "id": "77a74d93",
   "metadata": {
    "scrolled": false
   },
   "outputs": [
    {
     "name": "stderr",
     "output_type": "stream",
     "text": [
      "2023-03-18 18:44:55.325130: I tensorflow/core/platform/cpu_feature_guard.cc:193] This TensorFlow binary is optimized with oneAPI Deep Neural Network Library (oneDNN) to use the following CPU instructions in performance-critical operations:  AVX2 FMA\n",
      "To enable them in other operations, rebuild TensorFlow with the appropriate compiler flags.\n"
     ]
    }
   ],
   "source": [
    "import tensorflow"
   ]
  },
  {
   "cell_type": "code",
   "execution_count": 32,
   "id": "8e9d26d0",
   "metadata": {},
   "outputs": [],
   "source": [
    "from tensorflow import keras"
   ]
  },
  {
   "cell_type": "markdown",
   "id": "d6e4e5ad",
   "metadata": {},
   "source": [
    "## 6 LSTM"
   ]
  },
  {
   "cell_type": "code",
   "execution_count": 33,
   "id": "619315d6",
   "metadata": {},
   "outputs": [
    {
     "name": "stderr",
     "output_type": "stream",
     "text": [
      "2023-03-18 18:45:03.574679: I tensorflow/core/platform/cpu_feature_guard.cc:193] This TensorFlow binary is optimized with oneAPI Deep Neural Network Library (oneDNN) to use the following CPU instructions in performance-critical operations:  AVX2 FMA\n",
      "To enable them in other operations, rebuild TensorFlow with the appropriate compiler flags.\n"
     ]
    }
   ],
   "source": [
    "train_val_split_fraction = 0.8\n",
    "train_split = int(train_val_split_fraction * int(X_other.shape[0]))\n",
    "if include_dow:\n",
    "    predictors = ['log_volatility','DJ_return','log_volume','day_of_week']\n",
    "else:\n",
    "    predictors = ['log_volatility','DJ_return','log_volume']\n",
    "batch_size = 4\n",
    "learning_rate = 0.001\n",
    "epochs = 20\n",
    "sequence_length = 5\n",
    "\n",
    "#train\n",
    "train_data = NYSE[predictors].iloc[0:train_split - L -1]\n",
    "X_train = train_data[[i for i in predictors]].values\n",
    "y_train = NYSE['log_volume'].iloc[L:train_split]\n",
    "dataset_train = keras.preprocessing.timeseries_dataset_from_array(\n",
    "X_train,\n",
    "y_train,\n",
    "sequence_length = sequence_length,\n",
    "sampling_rate =1,\n",
    "batch_size = batch_size,\n",
    "shuffle = False)"
   ]
  },
  {
   "cell_type": "code",
   "execution_count": 34,
   "id": "327cb8b0",
   "metadata": {},
   "outputs": [
    {
     "name": "stdout",
     "output_type": "stream",
     "text": [
      "Input shape:  (4, 5, 3)\n",
      "Target shape:  (4,)\n"
     ]
    }
   ],
   "source": [
    "for batch in dataset_train.take(1):\n",
    "    inputs,targets = batch\n",
    "print('Input shape: ', inputs.numpy().shape)\n",
    "print('Target shape: ', targets.numpy().shape)"
   ]
  },
  {
   "cell_type": "code",
   "execution_count": 35,
   "id": "efca6475",
   "metadata": {},
   "outputs": [],
   "source": [
    "# validation"
   ]
  },
  {
   "cell_type": "code",
   "execution_count": 36,
   "id": "dd19e3e3",
   "metadata": {},
   "outputs": [],
   "source": [
    "val_data = NYSE[predictors].iloc[(train_split - L):(X_other.shape[0]-2)]\n",
    "X_val = val_data[[i for i in predictors]].values\n",
    "y_val = NYSE['log_volume'].iloc[train_split:(X_other.shape[0]+L-2)]\n",
    "dataset_val = keras.preprocessing.timeseries_dataset_from_array(\n",
    "X_val,\n",
    "y_val,\n",
    "sequence_length = sequence_length,\n",
    "sampling_rate =1,\n",
    "batch_size = batch_size,)"
   ]
  },
  {
   "cell_type": "code",
   "execution_count": 37,
   "id": "a370589f",
   "metadata": {
    "scrolled": true
   },
   "outputs": [
    {
     "name": "stdout",
     "output_type": "stream",
     "text": [
      "Model: \"model\"\n",
      "_________________________________________________________________\n",
      " Layer (type)                Output Shape              Param #   \n",
      "=================================================================\n",
      " input_1 (InputLayer)        [(None, 5, 3)]            0         \n",
      "                                                                 \n",
      " lstm (LSTM)                 (None, 12)                768       \n",
      "                                                                 \n",
      " dense (Dense)               (None, 1)                 13        \n",
      "                                                                 \n",
      "=================================================================\n",
      "Total params: 781\n",
      "Trainable params: 781\n",
      "Non-trainable params: 0\n",
      "_________________________________________________________________\n"
     ]
    }
   ],
   "source": [
    "inputs = keras.layers.Input(shape = (inputs.shape[1],inputs.shape[2]))\n",
    "lstm_out = keras.layers.LSTM(12)(inputs)\n",
    "outputs = keras.layers.Dense(1)(lstm_out)\n",
    "\n",
    "model = keras.Model(inputs = inputs,\n",
    "                   outputs = outputs)\n",
    "model.compile(\n",
    "optimizer = keras.optimizers.Adam(learning_rate = learning_rate),\n",
    "loss = 'mse',\n",
    "metrics =[tensorflow.keras.metrics.CosineSimilarity(axis =1)])\n",
    "model.summary()\n"
   ]
  },
  {
   "cell_type": "code",
   "execution_count": 38,
   "id": "1aa553dc",
   "metadata": {},
   "outputs": [],
   "source": [
    "# train"
   ]
  },
  {
   "cell_type": "code",
   "execution_count": 39,
   "id": "0d14f30f",
   "metadata": {},
   "outputs": [
    {
     "name": "stdout",
     "output_type": "stream",
     "text": [
      "Epoch 1/20\n",
      "853/853 - 4s - loss: 0.0508 - cosine_similarity: 0.1836 - val_loss: 0.0398 - val_cosine_similarity: 0.2117 - 4s/epoch - 5ms/step\n",
      "Epoch 2/20\n",
      "853/853 - 2s - loss: 0.0288 - cosine_similarity: 0.5443 - val_loss: 0.0342 - val_cosine_similarity: 0.3942 - 2s/epoch - 2ms/step\n",
      "Epoch 3/20\n",
      "853/853 - 2s - loss: 0.0264 - cosine_similarity: 0.5683 - val_loss: 0.0339 - val_cosine_similarity: 0.4082 - 2s/epoch - 2ms/step\n",
      "Epoch 4/20\n",
      "853/853 - 2s - loss: 0.0261 - cosine_similarity: 0.5730 - val_loss: 0.0336 - val_cosine_similarity: 0.4082 - 2s/epoch - 2ms/step\n",
      "Epoch 5/20\n",
      "853/853 - 2s - loss: 0.0260 - cosine_similarity: 0.5742 - val_loss: 0.0326 - val_cosine_similarity: 0.4222 - 2s/epoch - 2ms/step\n",
      "Epoch 6/20\n",
      "853/853 - 2s - loss: 0.0259 - cosine_similarity: 0.5754 - val_loss: 0.0316 - val_cosine_similarity: 0.4409 - 2s/epoch - 2ms/step\n",
      "Epoch 7/20\n",
      "853/853 - 2s - loss: 0.0258 - cosine_similarity: 0.5771 - val_loss: 0.0306 - val_cosine_similarity: 0.4667 - 2s/epoch - 2ms/step\n",
      "Epoch 8/20\n",
      "853/853 - 2s - loss: 0.0257 - cosine_similarity: 0.5789 - val_loss: 0.0298 - val_cosine_similarity: 0.4760 - 2s/epoch - 2ms/step\n",
      "Epoch 9/20\n",
      "853/853 - 2s - loss: 0.0255 - cosine_similarity: 0.5760 - val_loss: 0.0292 - val_cosine_similarity: 0.4901 - 2s/epoch - 2ms/step\n",
      "Epoch 10/20\n",
      "853/853 - 2s - loss: 0.0254 - cosine_similarity: 0.5748 - val_loss: 0.0286 - val_cosine_similarity: 0.4924 - 2s/epoch - 2ms/step\n",
      "Epoch 11/20\n",
      "853/853 - 2s - loss: 0.0253 - cosine_similarity: 0.5748 - val_loss: 0.0281 - val_cosine_similarity: 0.5018 - 2s/epoch - 2ms/step\n",
      "Epoch 12/20\n",
      "853/853 - 2s - loss: 0.0252 - cosine_similarity: 0.5736 - val_loss: 0.0278 - val_cosine_similarity: 0.4994 - 2s/epoch - 2ms/step\n",
      "Epoch 13/20\n",
      "853/853 - 2s - loss: 0.0252 - cosine_similarity: 0.5724 - val_loss: 0.0275 - val_cosine_similarity: 0.4924 - 2s/epoch - 2ms/step\n",
      "Epoch 14/20\n",
      "853/853 - 2s - loss: 0.0251 - cosine_similarity: 0.5718 - val_loss: 0.0272 - val_cosine_similarity: 0.4901 - 2s/epoch - 2ms/step\n",
      "Epoch 15/20\n",
      "853/853 - 2s - loss: 0.0250 - cosine_similarity: 0.5724 - val_loss: 0.0270 - val_cosine_similarity: 0.4924 - 2s/epoch - 2ms/step\n",
      "Epoch 16/20\n",
      "853/853 - 2s - loss: 0.0250 - cosine_similarity: 0.5736 - val_loss: 0.0268 - val_cosine_similarity: 0.4994 - 2s/epoch - 2ms/step\n",
      "Epoch 17/20\n",
      "853/853 - 2s - loss: 0.0249 - cosine_similarity: 0.5742 - val_loss: 0.0267 - val_cosine_similarity: 0.4971 - 2s/epoch - 2ms/step\n",
      "Epoch 18/20\n",
      "853/853 - 2s - loss: 0.0249 - cosine_similarity: 0.5748 - val_loss: 0.0265 - val_cosine_similarity: 0.4947 - 2s/epoch - 3ms/step\n",
      "Epoch 19/20\n",
      "853/853 - 3s - loss: 0.0248 - cosine_similarity: 0.5754 - val_loss: 0.0264 - val_cosine_similarity: 0.4924 - 3s/epoch - 3ms/step\n",
      "Epoch 20/20\n",
      "853/853 - 2s - loss: 0.0248 - cosine_similarity: 0.5777 - val_loss: 0.0263 - val_cosine_similarity: 0.4947 - 2s/epoch - 3ms/step\n"
     ]
    }
   ],
   "source": [
    "history = model.fit(dataset_train,\n",
    "                   epochs = epochs,\n",
    "                   validation_data = dataset_val,\n",
    "                   verbose =2 )"
   ]
  },
  {
   "cell_type": "code",
   "execution_count": 40,
   "id": "fdf8e606",
   "metadata": {},
   "outputs": [],
   "source": [
    "# final test performance "
   ]
  },
  {
   "cell_type": "code",
   "execution_count": 41,
   "id": "4dae2f86",
   "metadata": {},
   "outputs": [],
   "source": [
    "# test\n",
    "test_data = NYSE[predictors].iloc[NYSE_other.shape[0]:]\n",
    "dataset_test = keras.preprocessing.timeseries_dataset_from_array(\n",
    "test_data[[i for i in predictors]].values,\n",
    "y_test,\n",
    "sequence_length = sequence_length,\n",
    "sampling_rate =1 ,\n",
    "batch_size = batch_size,)"
   ]
  },
  {
   "cell_type": "code",
   "execution_count": 42,
   "id": "9d0c96a9",
   "metadata": {},
   "outputs": [
    {
     "data": {
      "text/html": [
       "<div>\n",
       "<style scoped>\n",
       "    .dataframe tbody tr th:only-of-type {\n",
       "        vertical-align: middle;\n",
       "    }\n",
       "\n",
       "    .dataframe tbody tr th {\n",
       "        vertical-align: top;\n",
       "    }\n",
       "\n",
       "    .dataframe thead th {\n",
       "        text-align: right;\n",
       "    }\n",
       "</style>\n",
       "<table border=\"1\" class=\"dataframe\">\n",
       "  <thead>\n",
       "    <tr style=\"text-align: right;\">\n",
       "      <th></th>\n",
       "      <th>log_volatility</th>\n",
       "      <th>DJ_return</th>\n",
       "      <th>log_volume</th>\n",
       "    </tr>\n",
       "    <tr>\n",
       "      <th>date</th>\n",
       "      <th></th>\n",
       "      <th></th>\n",
       "      <th></th>\n",
       "    </tr>\n",
       "  </thead>\n",
       "  <tbody>\n",
       "    <tr>\n",
       "      <th>1979-12-24</th>\n",
       "      <td>-10.385307</td>\n",
       "      <td>0.000298</td>\n",
       "      <td>-0.631830</td>\n",
       "    </tr>\n",
       "    <tr>\n",
       "      <th>1979-12-26</th>\n",
       "      <td>-10.485360</td>\n",
       "      <td>-0.001216</td>\n",
       "      <td>-0.365829</td>\n",
       "    </tr>\n",
       "    <tr>\n",
       "      <th>1979-12-27</th>\n",
       "      <td>-10.569258</td>\n",
       "      <td>0.002336</td>\n",
       "      <td>-0.137014</td>\n",
       "    </tr>\n",
       "    <tr>\n",
       "      <th>1979-12-28</th>\n",
       "      <td>-10.665966</td>\n",
       "      <td>-0.001418</td>\n",
       "      <td>-0.041932</td>\n",
       "    </tr>\n",
       "    <tr>\n",
       "      <th>1979-12-31</th>\n",
       "      <td>-10.771131</td>\n",
       "      <td>-0.000203</td>\n",
       "      <td>-0.125945</td>\n",
       "    </tr>\n",
       "    <tr>\n",
       "      <th>1980-01-02</th>\n",
       "      <td>-9.945787</td>\n",
       "      <td>-0.017039</td>\n",
       "      <td>0.117599</td>\n",
       "    </tr>\n",
       "    <tr>\n",
       "      <th>1980-01-03</th>\n",
       "      <td>-9.990808</td>\n",
       "      <td>-0.005180</td>\n",
       "      <td>0.331630</td>\n",
       "    </tr>\n",
       "  </tbody>\n",
       "</table>\n",
       "</div>"
      ],
      "text/plain": [
       "            log_volatility  DJ_return  log_volume\n",
       "date                                             \n",
       "1979-12-24      -10.385307   0.000298   -0.631830\n",
       "1979-12-26      -10.485360  -0.001216   -0.365829\n",
       "1979-12-27      -10.569258   0.002336   -0.137014\n",
       "1979-12-28      -10.665966  -0.001418   -0.041932\n",
       "1979-12-31      -10.771131  -0.000203   -0.125945\n",
       "1980-01-02       -9.945787  -0.017039    0.117599\n",
       "1980-01-03       -9.990808  -0.005180    0.331630"
      ]
     },
     "execution_count": 42,
     "metadata": {},
     "output_type": "execute_result"
    }
   ],
   "source": [
    "NYSE[predictors].iloc[NYSE_other.shape[0]:(NYSE_other.shape[0] + 7)]"
   ]
  },
  {
   "cell_type": "code",
   "execution_count": 43,
   "id": "4efd2f7e",
   "metadata": {},
   "outputs": [
    {
     "name": "stdout",
     "output_type": "stream",
     "text": [
      "443/443 - 1s - loss: 0.0377 - cosine_similarity: 0.4508 - 573ms/epoch - 1ms/step\n",
      "Test score:  0.03772404044866562\n",
      "Test metric:  0.45084744691848755\n"
     ]
    }
   ],
   "source": [
    "score,cossim = model.evaluate(dataset_test,\n",
    "                             batch_size = batch_size,\n",
    "                             verbose = 2)\n",
    "print('Test score: ', score)\n",
    "print('Test metric: ',cossim)"
   ]
  },
  {
   "cell_type": "code",
   "execution_count": 44,
   "id": "ac3016fa",
   "metadata": {},
   "outputs": [
    {
     "name": "stdout",
     "output_type": "stream",
     "text": [
      "443/443 - 1s - 810ms/epoch - 2ms/step\n"
     ]
    },
    {
     "data": {
      "text/plain": [
       "0.3442790302647364"
      ]
     },
     "execution_count": 44,
     "metadata": {},
     "output_type": "execute_result"
    }
   ],
   "source": [
    "r2_test_lstm = r2_score(y_test,\n",
    "                       np.c_[model.predict(\n",
    "                       dataset_test,\n",
    "                       batch_size = batch_size,\n",
    "                       verbose = 2)].flatten())\n",
    "r2_test_lstm\n",
    "                    "
   ]
  },
  {
   "cell_type": "markdown",
   "id": "b743faaa",
   "metadata": {},
   "source": [
    "## 7 Random forest  "
   ]
  },
  {
   "cell_type": "code",
   "execution_count": 45,
   "id": "b63a69ec",
   "metadata": {},
   "outputs": [],
   "source": [
    "from sklearn.ensemble import RandomForestRegressor\n",
    "rf_mod = RandomForestRegressor(\n",
    "# Number of trees\n",
    "n_estimators = 100,\n",
    "criterion = 'squared_error',\n",
    "# Number of features to use in each split max_features = 'sqrt',\n",
    "oob_score = True, random_state = 425 )"
   ]
  },
  {
   "cell_type": "code",
   "execution_count": 46,
   "id": "bc915844",
   "metadata": {},
   "outputs": [
    {
     "data": {
      "text/plain": [
       "Pipeline(steps=[('model',\n",
       "                 RandomForestRegressor(oob_score=True, random_state=425))])"
      ]
     },
     "execution_count": 46,
     "metadata": {},
     "output_type": "execute_result"
    }
   ],
   "source": [
    "from sklearn.pipeline import Pipeline\n",
    "rf_pipe = Pipeline(steps = [ (\"model\", rf_mod)\n",
    "])\n",
    "rf_pipe"
   ]
  },
  {
   "cell_type": "code",
   "execution_count": 47,
   "id": "c0f23bc4",
   "metadata": {},
   "outputs": [
    {
     "data": {
      "text/plain": [
       "{'model__n_estimators': [50, 100, 150, 200, 250, 300],\n",
       " 'model__max_features': ['sqrt', 'log2', 1.0]}"
      ]
     },
     "execution_count": 47,
     "metadata": {},
     "output_type": "execute_result"
    }
   ],
   "source": [
    "# Tune hyper-parameter(s)\n",
    "B_grid = [50, 100, 150, 200, 250, 300]\n",
    "m_grid = ['sqrt', 'log2', 1.0] # max_features = 1.0 uses all features\n",
    "rf_tuned_parameters = {\n",
    "  \"model__n_estimators\": B_grid,\n",
    "  \"model__max_features\": m_grid\n",
    "  }\n",
    "rf_tuned_parameters  "
   ]
  },
  {
   "cell_type": "code",
   "execution_count": 48,
   "id": "c55e61cc",
   "metadata": {},
   "outputs": [],
   "source": [
    "from sklearn.model_selection import GridSearchCV\n",
    "\n",
    "# Set up CV\n",
    "n_folds = 6\n",
    "rf_search = GridSearchCV(\n",
    "  rf_pipe,\n",
    "  rf_tuned_parameters,\n",
    "  cv = TimeSeriesSplit(5), \n",
    "  scoring = \"r2\",\n",
    "  # Refit the best model on the whole data set\n",
    "  refit = True\n",
    "  )"
   ]
  },
  {
   "cell_type": "code",
   "execution_count": 49,
   "id": "d38a7ac3",
   "metadata": {},
   "outputs": [
    {
     "data": {
      "text/plain": [
       "GridSearchCV(cv=TimeSeriesSplit(gap=0, max_train_size=None, n_splits=5, test_size=None),\n",
       "             estimator=Pipeline(steps=[('model',\n",
       "                                        RandomForestRegressor(oob_score=True,\n",
       "                                                              random_state=425))]),\n",
       "             param_grid={'model__max_features': ['sqrt', 'log2', 1.0],\n",
       "                         'model__n_estimators': [50, 100, 150, 200, 250, 300]},\n",
       "             scoring='r2')"
      ]
     },
     "execution_count": 49,
     "metadata": {},
     "output_type": "execute_result"
    }
   ],
   "source": [
    "# Fit CV\n",
    "rf_search.fit(X_other, y_other)"
   ]
  },
  {
   "cell_type": "code",
   "execution_count": 50,
   "id": "6e474821",
   "metadata": {
    "scrolled": true
   },
   "outputs": [
    {
     "data": {
      "text/plain": [
       "0.5345647332187802"
      ]
     },
     "execution_count": 50,
     "metadata": {},
     "output_type": "execute_result"
    }
   ],
   "source": [
    "r2_cv_rf = rf_search.best_score_\n",
    "r2_cv_rf"
   ]
  },
  {
   "cell_type": "code",
   "execution_count": 51,
   "id": "3020b0fa",
   "metadata": {
    "scrolled": true
   },
   "outputs": [
    {
     "data": {
      "text/plain": [
       "Pipeline(steps=[('model',\n",
       "                 RandomForestRegressor(max_features=1.0, n_estimators=300,\n",
       "                                       oob_score=True, random_state=425))])"
      ]
     },
     "execution_count": 51,
     "metadata": {},
     "output_type": "execute_result"
    }
   ],
   "source": [
    "rf_search.best_estimator_"
   ]
  },
  {
   "cell_type": "code",
   "execution_count": 52,
   "id": "ce2f3410",
   "metadata": {},
   "outputs": [
    {
     "name": "stdout",
     "output_type": "stream",
     "text": [
      "RF train R2: 0.9407256020188164\n"
     ]
    }
   ],
   "source": [
    "r2_train_rf = r2_score(\n",
    "    y_other,\n",
    "    rf_search.best_estimator_.predict(X_other)\n",
    ")\n",
    "print('RF train R2:',r2_train_rf)"
   ]
  },
  {
   "cell_type": "code",
   "execution_count": 53,
   "id": "74262c51",
   "metadata": {},
   "outputs": [
    {
     "name": "stdout",
     "output_type": "stream",
     "text": [
      "RF test R2: 0.4003886528302093\n"
     ]
    }
   ],
   "source": [
    "r2_test_rf = r2_score(\n",
    "    y_test,\n",
    "    rf_search.best_estimator_.predict(X_test)\n",
    ")\n",
    "print('RF test R2:',r2_test_rf)"
   ]
  },
  {
   "cell_type": "markdown",
   "id": "af7c9792",
   "metadata": {},
   "source": [
    "## 8 boosting "
   ]
  },
  {
   "cell_type": "code",
   "execution_count": 54,
   "id": "95fee621",
   "metadata": {},
   "outputs": [],
   "source": [
    "from sklearn.ensemble import AdaBoostRegressor \n",
    "from sklearn.tree import DecisionTreeRegressor\n",
    "bst_mod = AdaBoostRegressor(\n",
    "# Default base estimator is DecisionTreeRegressor with max_depth = 3 base_estimator = DecisionTreeRegressor(max_depth = 3),\n",
    "base_estimator = DecisionTreeRegressor(max_depth = 3),\n",
    "# Number of trees (to be tuned)\n",
    "n_estimators = 50,\n",
    "# Learning rate (to be tuned)\n",
    "learning_rate = 1.0,\n",
    "random_state = 425\n",
    ")"
   ]
  },
  {
   "cell_type": "code",
   "execution_count": 78,
   "id": "290dd4db",
   "metadata": {},
   "outputs": [
    {
     "data": {
      "text/plain": [
       "Pipeline(steps=[('model',\n",
       "                 AdaBoostRegressor(base_estimator=DecisionTreeRegressor(max_depth=3),\n",
       "                                   random_state=425))])"
      ]
     },
     "execution_count": 78,
     "metadata": {},
     "output_type": "execute_result"
    }
   ],
   "source": [
    "from sklearn.pipeline import Pipeline\n",
    "\n",
    "bst_pipe = Pipeline(steps = [\n",
    "  (\"model\", bst_mod)\n",
    "  ])\n",
    "bst_pipe"
   ]
  },
  {
   "cell_type": "code",
   "execution_count": 66,
   "id": "affb6272",
   "metadata": {},
   "outputs": [
    {
     "data": {
      "text/plain": [
       "{'model__base_estimator': [DecisionTreeRegressor(max_depth=1),\n",
       "  DecisionTreeRegressor(max_depth=2),\n",
       "  DecisionTreeRegressor(max_depth=3),\n",
       "  DecisionTreeRegressor(max_depth=4)],\n",
       " 'model__n_estimators': [50, 100, 150, 200, 250, 300, 350, 400],\n",
       " 'model__learning_rate': [0.2, 0.4, 0.6, 0.8, 1.0]}"
      ]
     },
     "execution_count": 66,
     "metadata": {},
     "output_type": "execute_result"
    }
   ],
   "source": [
    "# Tune hyper-parameter(s)\n",
    "d_grid = [\n",
    "  DecisionTreeRegressor(max_depth = 1),\n",
    "  DecisionTreeRegressor(max_depth = 2),\n",
    "  DecisionTreeRegressor(max_depth = 3),\n",
    "  DecisionTreeRegressor(max_depth = 4)\n",
    "  ]\n",
    "B_grid = [50, 100, 150, 200, 250, 300, 350, 400]\n",
    "lambda_grid = [0.2, 0.4, 0.6, 0.8, 1.0]\n",
    "bst_tuned_parameters = {\n",
    "  \"model__base_estimator\": d_grid,\n",
    "  \"model__n_estimators\": B_grid,\n",
    "  \"model__learning_rate\": lambda_grid\n",
    "  }\n",
    "bst_tuned_parameters  "
   ]
  },
  {
   "cell_type": "code",
   "execution_count": 67,
   "id": "4dfd9804",
   "metadata": {},
   "outputs": [],
   "source": [
    "from sklearn.model_selection import GridSearchCV\n",
    "\n",
    "# Set up CV\n",
    "bst_search = GridSearchCV(\n",
    "  bst_pipe,\n",
    "  bst_tuned_parameters,\n",
    "  cv = TimeSeriesSplit(5),  \n",
    "  scoring = \"r2\",\n",
    "  # Refit the best model on the whole data set\n",
    "  refit = True\n",
    "  )"
   ]
  },
  {
   "cell_type": "code",
   "execution_count": 68,
   "id": "19bedbb7",
   "metadata": {},
   "outputs": [
    {
     "data": {
      "text/plain": [
       "GridSearchCV(cv=TimeSeriesSplit(gap=0, max_train_size=None, n_splits=5, test_size=None),\n",
       "             estimator=Pipeline(steps=[('model',\n",
       "                                        AdaBoostRegressor(base_estimator=DecisionTreeRegressor(max_depth=3),\n",
       "                                                          random_state=425))]),\n",
       "             param_grid={'model__base_estimator': [DecisionTreeRegressor(max_depth=1),\n",
       "                                                   DecisionTreeRegressor(max_depth=2),\n",
       "                                                   DecisionTreeRegressor(max_depth=3),\n",
       "                                                   DecisionTreeRegressor(max_depth=4)],\n",
       "                         'model__learning_rate': [0.2, 0.4, 0.6, 0.8, 1.0],\n",
       "                         'model__n_estimators': [50, 100, 150, 200, 250, 300,\n",
       "                                                 350, 400]},\n",
       "             scoring='r2')"
      ]
     },
     "execution_count": 68,
     "metadata": {},
     "output_type": "execute_result"
    }
   ],
   "source": [
    "# Fit CV\n",
    "bst_search.fit(X_other, y_other)"
   ]
  },
  {
   "cell_type": "code",
   "execution_count": 70,
   "id": "6b63dbe3",
   "metadata": {},
   "outputs": [
    {
     "data": {
      "text/plain": [
       "0.5189909701218139"
      ]
     },
     "execution_count": 70,
     "metadata": {},
     "output_type": "execute_result"
    }
   ],
   "source": [
    "r2_cv_bst = bst_search.best_score_\n",
    "r2_cv_bst"
   ]
  },
  {
   "cell_type": "code",
   "execution_count": 72,
   "id": "f6556230",
   "metadata": {},
   "outputs": [
    {
     "data": {
      "text/plain": [
       "Pipeline(steps=[('model',\n",
       "                 AdaBoostRegressor(base_estimator=DecisionTreeRegressor(max_depth=4),\n",
       "                                   learning_rate=0.2, n_estimators=100,\n",
       "                                   random_state=425))])"
      ]
     },
     "execution_count": 72,
     "metadata": {},
     "output_type": "execute_result"
    }
   ],
   "source": [
    "bst_search.best_estimator_"
   ]
  },
  {
   "cell_type": "code",
   "execution_count": 74,
   "id": "000413ad",
   "metadata": {},
   "outputs": [
    {
     "name": "stdout",
     "output_type": "stream",
     "text": [
      "Boosting train R2: 0.5932792973500349\n"
     ]
    }
   ],
   "source": [
    "r2_train_bst = r2_score(\n",
    "    y_other,\n",
    "    bst_search.best_estimator_.predict(X_other)\n",
    ")\n",
    "print('Boosting train R2:',r2_train_bst)"
   ]
  },
  {
   "cell_type": "code",
   "execution_count": 76,
   "id": "f72d9050",
   "metadata": {},
   "outputs": [
    {
     "name": "stdout",
     "output_type": "stream",
     "text": [
      "Boosting test R2: 0.36095350451672636\n"
     ]
    }
   ],
   "source": [
    "r2_test_bst = r2_score(\n",
    "    y_test,\n",
    "    bst_search.best_estimator_.predict(X_test)\n",
    ")\n",
    "print('Boosting test R2:',r2_test_bst)"
   ]
  },
  {
   "cell_type": "code",
   "execution_count": 85,
   "id": "45866145",
   "metadata": {},
   "outputs": [
    {
     "data": {
      "text/html": [
       "<div>\n",
       "<style scoped>\n",
       "    .dataframe tbody tr th:only-of-type {\n",
       "        vertical-align: middle;\n",
       "    }\n",
       "\n",
       "    .dataframe tbody tr th {\n",
       "        vertical-align: top;\n",
       "    }\n",
       "\n",
       "    .dataframe thead th {\n",
       "        text-align: right;\n",
       "    }\n",
       "</style>\n",
       "<table border=\"1\" class=\"dataframe\">\n",
       "  <thead>\n",
       "    <tr style=\"text-align: right;\">\n",
       "      <th></th>\n",
       "      <th>CV R2</th>\n",
       "      <th>Test R2</th>\n",
       "    </tr>\n",
       "  </thead>\n",
       "  <tbody>\n",
       "    <tr>\n",
       "      <th>Baseline</th>\n",
       "      <td>0.419939</td>\n",
       "      <td>0.180263</td>\n",
       "    </tr>\n",
       "    <tr>\n",
       "      <th>AR(5)</th>\n",
       "      <td>0.556291</td>\n",
       "      <td>0.412891</td>\n",
       "    </tr>\n",
       "    <tr>\n",
       "      <th>AR(5)MLP</th>\n",
       "      <td>0.529872</td>\n",
       "      <td>0.371593</td>\n",
       "    </tr>\n",
       "    <tr>\n",
       "      <th>LSTM</th>\n",
       "      <td>0</td>\n",
       "      <td>0.344279</td>\n",
       "    </tr>\n",
       "    <tr>\n",
       "      <th>Random Forest</th>\n",
       "      <td>0.534565</td>\n",
       "      <td>0.400389</td>\n",
       "    </tr>\n",
       "    <tr>\n",
       "      <th>Boosting</th>\n",
       "      <td>0.518991</td>\n",
       "      <td>0.360954</td>\n",
       "    </tr>\n",
       "  </tbody>\n",
       "</table>\n",
       "</div>"
      ],
      "text/plain": [
       "                  CV R2   Test R2\n",
       "Baseline       0.419939  0.180263\n",
       "AR(5)          0.556291  0.412891\n",
       "AR(5)MLP       0.529872  0.371593\n",
       "LSTM                  0  0.344279\n",
       "Random Forest  0.534565  0.400389\n",
       "Boosting       0.518991  0.360954"
      ]
     },
     "execution_count": 85,
     "metadata": {},
     "output_type": "execute_result"
    }
   ],
   "source": [
    "summary = pd.DataFrame({\n",
    "    'Baseline': [r2_train_strawman, r2_test_strawman],\n",
    "    'AR(5)': [r2_cv_enet, r2_test_enet],\n",
    "    'AR(5)MLP': [r2_cv_mlp,r2_test_mlp], \n",
    "    'LSTM': [ '0', r2_test_lstm],\n",
    "    'Random Forest': [r2_cv_rf, r2_test_rf],\n",
    "    'Boosting': [r2_cv_bst, r2_test_bst]\n",
    "})\n",
    "summary = summary.transpose()\n",
    "summary = summary.rename(columns={0: 'CV R2', 1: 'Test R2'})\n",
    "summary"
   ]
  }
 ],
 "metadata": {
  "kernelspec": {
   "display_name": "Python 3 (ipykernel)",
   "language": "python",
   "name": "python3"
  },
  "language_info": {
   "codemirror_mode": {
    "name": "ipython",
    "version": 3
   },
   "file_extension": ".py",
   "mimetype": "text/x-python",
   "name": "python",
   "nbconvert_exporter": "python",
   "pygments_lexer": "ipython3",
   "version": "3.9.12"
  }
 },
 "nbformat": 4,
 "nbformat_minor": 5
}
